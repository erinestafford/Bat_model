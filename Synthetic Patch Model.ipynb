{
 "cells": [
  {
   "cell_type": "code",
   "execution_count": 8,
   "id": "d11d3f45",
   "metadata": {},
   "outputs": [],
   "source": [
    "import numpy as np\n",
    "import random\n",
    "import pickle"
   ]
  },
  {
   "cell_type": "code",
   "execution_count": 72,
   "id": "bd382892",
   "metadata": {},
   "outputs": [],
   "source": [
    "with open('out5.pkl', 'rb') as f:\n",
    "    test_out = pickle.load(f)\n",
    "    \n"
   ]
  },
  {
   "cell_type": "code",
   "execution_count": 73,
   "id": "720b2f29",
   "metadata": {},
   "outputs": [
    {
     "data": {
      "text/plain": [
       "array([0.0027826 , 0.19944906, 0.19956992, 0.24970974, 0.29846263,\n",
       "       0.05002606])"
      ]
     },
     "execution_count": 73,
     "metadata": {},
     "output_type": "execute_result"
    }
   ],
   "source": [
    "test_out['PMP']['Roost']"
   ]
  },
  {
   "cell_type": "code",
   "execution_count": 11,
   "id": "f4c4af07",
   "metadata": {},
   "outputs": [],
   "source": [
    "patch_net = {0: {'Name': 'Roost', 'carrying_capacity': 1, 'init_resources': 0, 'resource_birth': 0,\n",
    "                 'patch_center': [0.5,0.5], 'bat_resource_conversion': 0, 'Res':np.array([0,0])},\n",
    "             1: {'Name': 'Residential', 'carrying_capacity': 1000, 'init_resources': 1000, 'resource_birth': 0.05,\n",
    "                 'patch_center': [1.5,0.5], 'bat_resource_conversion': 0.9, 'Res':np.array([0,1])},\n",
    "             2: {'Name': 'Residential 2', 'carrying_capacity': 1000, 'init_resources': 1000, 'resource_birth': 0.05,\n",
    "                 'patch_center': [2.5,0.5], 'bat_resource_conversion': 0.9, 'Res':np.array([0,1])},\n",
    "             3: {'Name': 'Orchard', 'carrying_capacity': 1000, 'init_resources': 1000, 'resource_birth': 0.01,\n",
    "                 'patch_center': [0.5,1.5], 'bat_resource_conversion': 0.9, 'Res':np.array([1,0])},\n",
    "             4: {'Name': 'Orchard 2', 'carrying_capacity': 1000, 'init_resources': 1000, 'resource_birth': 0.01,\n",
    "                 'patch_center': [1.5,1.5], 'bat_resource_conversion': 0.9, 'Res':np.array([1,0])},\n",
    "             5: {'Name': 'Dump', 'carrying_capacity': 500, 'init_resources': 100, 'resource_birth': 0.5,\n",
    "                 'patch_center': [2.5,1.5], 'bat_resource_conversion': 0.9, 'Res':np.array([0,1])}}"
   ]
  },
  {
   "cell_type": "code",
   "execution_count": 12,
   "id": "0bf41b70",
   "metadata": {},
   "outputs": [],
   "source": [
    "patch_types = ['Roost', 'Residential', 'Orchard', 'Water Body', 'Forest', 'Dump']\n",
    "patch_names = random.choices(patch_types,weights = [1/100, 20/100, 10/100,10/100,50/100, 9/100], k = 100)\n",
    "while 'Roost' not in patch_names:\n",
    "    patch_names = random.choices(patch_types,weights = [1/100, 20/100, 10/100,10/100,50/100, 9/100], k = 100)"
   ]
  },
  {
   "cell_type": "code",
   "execution_count": 13,
   "id": "27aea895",
   "metadata": {},
   "outputs": [],
   "source": [
    "#create patch network that is 10x10\n",
    "\n",
    "patch_net_10x10 = {}\n",
    "resources = np.zeros((10,10))\n",
    "count = 0\n",
    "K = np.random.choice(np.arange(1,500))\n",
    "rb = 0#np.random.choice(np.arange(0,0.1,0.001))\n",
    "\n",
    "for i in range(10):\n",
    "    for j in range(10):\n",
    "        patch_net_10x10[count] ={}\n",
    "        patch_net_10x10[count]['Name']= patch_names[count]\n",
    "        patch_net_10x10[count]['patch_center']= [i+0.5,j+0.5]\n",
    "        patch_net_10x10[count]['carrying_capacity']= K\n",
    "        patch_net_10x10[count]['init_resources']= np.random.choice(np.arange(1,K+1))\n",
    "        resources[i,j]=patch_net_10x10[count]['init_resources']\n",
    "        patch_net_10x10[count]['resource_birth'] = rb\n",
    "        if patch_net_10x10[count]['Name'] in ['Residential','Dump']:\n",
    "            patch_net_10x10[count]['Res']=np.array([0,1])\n",
    "        elif patch_net_10x10[count]['Name'] in ['Orchard', 'Water Body', 'Forest']:\n",
    "            patch_net_10x10[count]['Res']=np.array([1,0])\n",
    "        else:\n",
    "            patch_net_10x10[count]['Res']=np.array([0.5,0.5])\n",
    "        count = count+1\n",
    "            \n",
    "            "
   ]
  },
  {
   "cell_type": "code",
   "execution_count": 14,
   "id": "55afde42",
   "metadata": {},
   "outputs": [],
   "source": [
    "import pickle \n",
    "\n",
    "with open('test_small_synth_patch_net.pkl', 'wb') as f:\n",
    "    pickle.dump(patch_net_10x10, f)\n"
   ]
  },
  {
   "cell_type": "code",
   "execution_count": 15,
   "id": "db6dff55",
   "metadata": {},
   "outputs": [
    {
     "data": {
      "text/plain": [
       "0"
      ]
     },
     "execution_count": 15,
     "metadata": {},
     "output_type": "execute_result"
    }
   ],
   "source": [
    "rb"
   ]
  },
  {
   "cell_type": "code",
   "execution_count": 16,
   "id": "bca6c894",
   "metadata": {},
   "outputs": [
    {
     "data": {
      "image/png": "[encoded data removed]",
      "text/plain": [
       "<Figure size 432x288 with 2 Axes>"
      ]
     },
     "metadata": {
      "needs_background": "light"
     },
     "output_type": "display_data"
    }
   ],
   "source": [
    "import matplotlib.pyplot as plt\n",
    "data=np.array(resources)\n",
    "plt.imshow(data,cmap='magma')\n",
    "plt.colorbar()\n",
    "plt.show()"
   ]
  },
  {
   "cell_type": "code",
   "execution_count": 102,
   "id": "a0dc4bfe",
   "metadata": {},
   "outputs": [
    {
     "name": "stdout",
     "output_type": "stream",
     "text": [
      "86.49\n",
      "175.0\n"
     ]
    }
   ],
   "source": [
    "print(np.mean(resources))\n",
    "print(np.max(resources))"
   ]
  },
  {
   "cell_type": "code",
   "execution_count": 103,
   "id": "2a4d6557",
   "metadata": {},
   "outputs": [],
   "source": [
    "patch_type_dist = np.zeros(len(patch_types))\n",
    "for p in patch_names:\n",
    "    if p=='Roost':\n",
    "        patch_type_dist[0]+=1\n",
    "    if p=='Residential':\n",
    "        patch_type_dist[1]+=1\n",
    "    if p=='Orchard':\n",
    "        patch_type_dist[2]+=1\n",
    "    if p=='Water Body':\n",
    "        patch_type_dist[3]+=1\n",
    "    if p=='Forest':\n",
    "        patch_type_dist[4]+=1\n",
    "    if p=='Dump':\n",
    "        patch_type_dist[5]+=1\n",
    "\n",
    "patch_probs = np.array([0.        , 0.53710742, 0.26605321, 0.06561312, 0.06561312,\n",
    "       0.06561313])\n",
    "\n",
    "patch_dist = np.zeros(len(patch_names))\n",
    "count = 0\n",
    "for p in patch_names:\n",
    "    if p=='Roost':\n",
    "        patch_dist[count]=0\n",
    "    if p=='Residential':\n",
    "        patch_dist[count]=patch_probs[1]/patch_type_dist[1]\n",
    "    if p=='Orchard':\n",
    "        patch_dist[count]=patch_probs[2]/patch_type_dist[2]\n",
    "    if p=='Water Body':\n",
    "        patch_dist[count]=patch_probs[3]/patch_type_dist[3]\n",
    "    if p=='Forest':\n",
    "        patch_dist[count]=patch_probs[4]/patch_type_dist[4]\n",
    "    if p=='Dump':\n",
    "        patch_dist[count]=patch_probs[5]/patch_type_dist[5]\n",
    "    count = count+1"
   ]
  },
  {
   "cell_type": "code",
   "execution_count": 104,
   "id": "6ad55c05",
   "metadata": {},
   "outputs": [],
   "source": [
    "with open('init_small_synth_forage.pkl', 'wb') as f:\n",
    "    pickle.dump(patch_dist, f)"
   ]
  },
  {
   "cell_type": "markdown",
   "id": "4152ec24",
   "metadata": {},
   "source": [
    "# Creating synthetic landscapes for testing mitigation strategies\n",
    " - equal parts\n",
    " - mostly forrest\n",
    " - mostly orchard\n",
    " - mostly residential\n",
    " \n",
    " Decide what proportion of the grid should be each type. Start with residential, pick random grid space and assign to type. Assign neighboring types with some probability. Repeat while not filled\n",
    " "
   ]
  },
  {
   "cell_type": "code",
   "execution_count": 17,
   "id": "2ff2df9c",
   "metadata": {},
   "outputs": [],
   "source": [
    "def get_neighbours_ij(m,x,y,neighbors):\n",
    "    rows, cols = range(len(m)),range(len(m[0]))\n",
    "    offsets = [(-1,-1),(-1,0),(-1,1),(0,-1),(0,1),(1,-1),(1,0),(1,1)]\n",
    "    for dy,dx in offsets:\n",
    "        ny, nx = y+dy, x+dx\n",
    "        if ny in rows and nx in cols:\n",
    "            neighbors.append([ny,nx])\n",
    "    return neighbors"
   ]
  },
  {
   "cell_type": "code",
   "execution_count": 18,
   "id": "f888489a",
   "metadata": {},
   "outputs": [],
   "source": [
    "patch_net = {}\n",
    "patch_names = []\n",
    "num_patches = 3*3\n",
    "patch_type_nums = np.round(np.array([0.2,0.2,0.2,0.2,0.2])*num_patches)\n",
    "types = -1*np.ones((3,3))\n",
    "neighbors = []\n",
    "type_options = np.array([0,1,2,3,4])\n",
    "\n",
    "i = random.choice(np.arange(3))\n",
    "j = random.choice(np.arange(3))"
   ]
  },
  {
   "cell_type": "code",
   "execution_count": 19,
   "id": "b4996bc9",
   "metadata": {},
   "outputs": [],
   "source": [
    "resources_map = { 0: ['Orchard', 2000,5000,0.05,0.1],\n",
    "                  1: ['Forest', 1000,3000,0.0,0.1],\n",
    "                  2: ['Residential',500,1000,0.1,0.5],\n",
    "                  3: ['Dump', 200,1000,0.1,0.5],\n",
    "                  4: ['Water Body',100,3000,0.0,0.1]\n",
    "                }\n",
    "\n",
    "color_map = { 0: np.array([255,255,100]),\n",
    "              1: np.array([30,114,36]),\n",
    "              2: np.array([195,20,0]),\n",
    "              3: np.array([0,0,0]),\n",
    "              4: np.array([0,45,195])\n",
    "            }\n",
    "\n",
    "def get_neighbours(m,x,y):\n",
    "    rows, cols = range(len(m)),range(len(m[0]))\n",
    "    offsets = [(-1,-1),(-1,0),(-1,1),(0,-1),(0,1),(1,-1),(1,0),(1,1)]\n",
    "    result = []\n",
    "    for dy,dx in offsets:\n",
    "        ny, nx = y-1+dy, x-1+dx\n",
    "        if ny in rows and nx in cols:\n",
    "            result.append(resources_map[m[ny,nx]][0])\n",
    "    return np.array(result)"
   ]
  },
  {
   "cell_type": "code",
   "execution_count": 108,
   "id": "b20aa989",
   "metadata": {},
   "outputs": [
    {
     "data": {
      "image/png": "[encoded data removed]",
      "text/plain": [
       "<Figure size 432x288 with 1 Axes>"
      ]
     },
     "metadata": {
      "needs_background": "light"
     },
     "output_type": "display_data"
    }
   ],
   "source": [
    "import numpy as np\n",
    "import random\n",
    "\n",
    "def create_strongly_clustered_matrix(rows, cols, proportions):\n",
    "    \"\"\"\n",
    "    Create a matrix with values 0,1,2,3,4 based on given proportions, with stronger clustering.\n",
    "    \n",
    "    Args:\n",
    "    rows (int): Number of rows in the matrix.\n",
    "    cols (int): Number of columns in the matrix.\n",
    "    proportions (list of float): A list of 5 floats representing the proportions of each value.\n",
    "    \n",
    "    Returns:\n",
    "    np.ndarray: A matrix with values 0,1,2,3,4 arranged in strong clusters.\n",
    "    \"\"\"\n",
    "    # Number of values (0,1,2,3,4)\n",
    "    values = [0, 1, 2, 3, 4]\n",
    "    \n",
    "    # Calculate the total number of elements in the matrix\n",
    "    total_elements = rows * cols\n",
    "    \n",
    "    # Calculate how many of each value we need based on the proportions\n",
    "    counts = [int(p * total_elements) for p in proportions]\n",
    "    \n",
    "    # Ensure that the sum of the counts equals the total number of elements\n",
    "    while sum(counts) < total_elements:\n",
    "        counts[random.randint(0, 4)] += 1\n",
    "    while sum(counts) > total_elements:\n",
    "        counts[random.randint(0, 4)] -= 1\n",
    "    \n",
    "    # Initialize the matrix with -1 (to represent unfilled cells)\n",
    "    matrix = np.full((rows, cols), -1)\n",
    "    \n",
    "    # Function to get the neighbors of a cell\n",
    "    def get_neighbors(r, c):\n",
    "        neighbors = []\n",
    "        if r > 0:\n",
    "            neighbors.append((r-1, c))  # up\n",
    "        if r < rows-1:\n",
    "            neighbors.append((r+1, c))  # down\n",
    "        if c > 0:\n",
    "            neighbors.append((r, c-1))  # left\n",
    "        if c < cols-1:\n",
    "            neighbors.append((r, c+1))  # right\n",
    "        return neighbors\n",
    "\n",
    "    # Step 1: Seed initial positions for each value\n",
    "    positions = [(r, c) for r in range(rows) for c in range(cols)]\n",
    "    random.shuffle(positions)  # Shuffle to randomize seeding\n",
    "    \n",
    "    for value, count in zip(values, counts):\n",
    "        # Place a few random initial seeds for each value\n",
    "        initial_seeds = count // 5  # Spread out initial seeds\n",
    "        for _ in range(initial_seeds):\n",
    "            r, c = random.choice(positions)\n",
    "            matrix[r, c] = value\n",
    "            positions.remove((r, c))  # Remove this position from the list\n",
    "\n",
    "    # Step 2: Cluster expansion\n",
    "    for value, count in zip(values, counts):\n",
    "        remaining = count - (count // 5)  # Remaining elements to be placed\n",
    "        while remaining > 0:\n",
    "            # Expand from already placed cells of the current value\n",
    "            expansion_candidates = [(r, c) for r in range(rows) for c in range(cols) if matrix[r, c] == value]\n",
    "            if not expansion_candidates:\n",
    "                break  # No more places to expand from\n",
    "            \n",
    "            # Try to expand around each candidate\n",
    "            expanded = False\n",
    "            random.shuffle(expansion_candidates)  # Randomize the order of candidates\n",
    "            for r, c in expansion_candidates:\n",
    "                neighbors = get_neighbors(r, c)\n",
    "                random.shuffle(neighbors)  # Randomize the neighbor selection\n",
    "                for nr, nc in neighbors:\n",
    "                    if matrix[nr, nc] == -1:  # Unfilled spot\n",
    "                        matrix[nr, nc] = value\n",
    "                        remaining -= 1\n",
    "                        expanded = True\n",
    "                        break\n",
    "                if expanded:\n",
    "                    break\n",
    "            \n",
    "            # If we can't expand from any current cluster, we break out of the loop to avoid infinite loops\n",
    "            if not expanded:\n",
    "                break\n",
    "\n",
    "    # Step 3: Fill remaining spots randomly (if any gaps)\n",
    "    remaining_positions = [(r, c) for r in range(rows) for c in range(cols) if matrix[r, c] == -1]\n",
    "    random.shuffle(remaining_positions)\n",
    "    \n",
    "    for r, c in remaining_positions:\n",
    "        # Pick a value to fill, weighted by the remaining counts\n",
    "        value = random.choices(values, weights=counts, k=1)[0]\n",
    "        matrix[r, c] = value\n",
    "        counts[values.index(value)] -= 1  # Decrease the remaining count for that value\n",
    "    \n",
    "    return matrix\n",
    "\n",
    "# Example usage\n",
    "rows = 30\n",
    "cols = 30\n",
    "proportions = [0.2, 0.2, 0.4, 0.1, 0.1]  # Proportions for values 0, 1, 2, 3, 4\n",
    "#{ ['Orchard', 'Forest','Residential','Dump','Water Body']\n",
    "matrix = create_strongly_clustered_matrix(rows, cols, proportions)\n",
    "\n",
    "\n",
    "data_3d = np.ndarray(shape=(rows,cols, 3), dtype=int)\n",
    "for r in range(rows):\n",
    "    for c in range(cols):\n",
    "        data_3d[r][c]= color_map[matrix[r][c]]\n",
    "fig, ax = plt.subplots()\n",
    "ax.imshow(data_3d)\n",
    "plt.show()\n"
   ]
  },
  {
   "cell_type": "code",
   "execution_count": 143,
   "id": "ceb4fb64",
   "metadata": {},
   "outputs": [
    {
     "data": {
      "image/png": "[encoded data removed]",
      "text/plain": [
       "<Figure size 432x288 with 1 Axes>"
      ]
     },
     "metadata": {
      "needs_background": "light"
     },
     "output_type": "display_data"
    }
   ],
   "source": [
    "import numpy as np\n",
    "import random\n",
    "\n",
    "def create_strongly_clustered_matrix(rows, cols, proportions):\n",
    "    \"\"\"\n",
    "    Create a matrix with values 0,1,2,3,4 based on given proportions, with stronger clustering.\n",
    "    \n",
    "    Args:\n",
    "    rows (int): Number of rows in the matrix.\n",
    "    cols (int): Number of columns in the matrix.\n",
    "    proportions (list of float): A list of 5 floats representing the proportions of each value.\n",
    "    \n",
    "    Returns:\n",
    "    np.ndarray: A matrix with values 0,1,2,3,4 arranged in strong clusters.\n",
    "    \"\"\"\n",
    "    # Values that we want to distribute\n",
    "    values = [0, 1, 2, 3, 4]\n",
    "    \n",
    "    # Total number of elements in the matrix\n",
    "    total_elements = rows * cols\n",
    "    \n",
    "    # Calculate how many of each value we need based on the proportions\n",
    "    counts = np.array([int(p * total_elements) for p in proportions])\n",
    "    \n",
    "    # Ensure that the sum of the counts equals the total number of elements\n",
    "    while sum(counts) < total_elements:\n",
    "        counts[random.choice(np.where(counts>0))] += 1\n",
    "    while sum(counts) > total_elements:\n",
    "        counts[random.choice(np.where(counts>0))] -= 1\n",
    "    \n",
    "    # Filter out values with zero count and remove them from the process entirely\n",
    "    non_zero_values = [v for v, count in zip(values, counts) if count > 0]\n",
    "    non_zero_counts = [count for count in counts if count > 0]\n",
    "    \n",
    "    # Initialize the matrix with -1 to represent unfilled cells\n",
    "    matrix = np.full((rows, cols), -1)\n",
    "    \n",
    "    def get_neighbors(r, c):\n",
    "        \"\"\"Return the neighboring cells of (r, c)\"\"\"\n",
    "        neighbors = []\n",
    "        if r > 0:\n",
    "            neighbors.append((r-1, c))  # up\n",
    "        if r < rows-1:\n",
    "            neighbors.append((r+1, c))  # down\n",
    "        if c > 0:\n",
    "            neighbors.append((r, c-1))  # left\n",
    "        if c < cols-1:\n",
    "            neighbors.append((r, c+1))  # right\n",
    "        return neighbors\n",
    "    \n",
    "    # Step 1: Seed initial positions for each value\n",
    "    positions = [(r, c) for r in range(rows) for c in range(cols)]\n",
    "    random.shuffle(positions)\n",
    "    \n",
    "    for value, count in zip(non_zero_values, non_zero_counts):\n",
    "        initial_seeds = count // 5  # Spread out initial seeds\n",
    "        for _ in range(initial_seeds):\n",
    "            if not positions:\n",
    "                break\n",
    "            r, c = random.choice(positions)\n",
    "            matrix[r, c] = value\n",
    "            positions.remove((r, c))\n",
    "    \n",
    "    # Step 2: Cluster expansion\n",
    "    for value, count in zip(non_zero_values, non_zero_counts):\n",
    "        remaining = count - (count // 5)  # Remaining elements to be placed\n",
    "        while remaining > 0:\n",
    "            expansion_candidates = [(r, c) for r in range(rows) for c in range(cols) if matrix[r, c] == value]\n",
    "            if not expansion_candidates:\n",
    "                break\n",
    "            \n",
    "            expanded = False\n",
    "            random.shuffle(expansion_candidates)\n",
    "            for r, c in expansion_candidates:\n",
    "                neighbors = get_neighbors(r, c)\n",
    "                random.shuffle(neighbors)\n",
    "                for nr, nc in neighbors:\n",
    "                    if matrix[nr, nc] == -1:  # Unfilled spot\n",
    "                        matrix[nr, nc] = value\n",
    "                        remaining -= 1\n",
    "                        expanded = True\n",
    "                        break\n",
    "                if expanded:\n",
    "                    break\n",
    "            \n",
    "            if not expanded:\n",
    "                break\n",
    "\n",
    "    # Step 3: Fill remaining spots with non-zero counts\n",
    "    remaining_positions = [(r, c) for r in range(rows) for c in range(cols) if matrix[r, c] == -1]\n",
    "    random.shuffle(remaining_positions)\n",
    "    \n",
    "    while remaining_positions:\n",
    "        r, c = remaining_positions.pop()\n",
    "        \n",
    "        # Only use non-zero values for filling\n",
    "        value = random.choices(non_zero_values, weights=non_zero_counts, k=1)[0]\n",
    "        matrix[r, c] = value\n",
    "        \n",
    "        # Decrease the count for that value\n",
    "        value_index = non_zero_values.index(value)\n",
    "        non_zero_counts[value_index] -= 1\n",
    "        \n",
    "        # If a count reaches zero, remove that value from the list\n",
    "        if non_zero_counts[value_index] == 0:\n",
    "            non_zero_values.pop(value_index)\n",
    "            non_zero_counts.pop(value_index)\n",
    "    \n",
    "    return matrix\n",
    "\n",
    "\n",
    "# Example usage\n",
    "rows = 30\n",
    "cols = 30\n",
    "proportions = [0.2, 0.2, 0.2, 0.05, 0.15]  # Proportions for values 0, 1, 2, 3, 4\n",
    "matrix = create_strongly_clustered_matrix(rows, cols, proportions)\n",
    "#['Orchard','Forest','Residential','Dump','Water Body']\n",
    "\n",
    "data_3d = np.ndarray(shape=(rows,cols, 3), dtype=int)\n",
    "for r in range(rows):\n",
    "    for c in range(cols):\n",
    "        data_3d[r][c]= color_map[matrix[r][c]]\n",
    "fig, ax = plt.subplots()\n",
    "ax.imshow(data_3d)\n",
    "plt.show()"
   ]
  },
  {
   "cell_type": "code",
   "execution_count": 110,
   "id": "344c7b24",
   "metadata": {},
   "outputs": [
    {
     "data": {
      "image/png": "[encoded data removed]",
      "text/plain": [
       "<Figure size 432x288 with 1 Axes>"
      ]
     },
     "metadata": {
      "needs_background": "light"
     },
     "output_type": "display_data"
    }
   ],
   "source": [
    "import numpy as np\n",
    "import random\n",
    "\n",
    "def replace_values_with_clustering(matrix, proportion, value):\n",
    "    \"\"\"\n",
    "    Replace values in a matrix with a specified value, clustered near the diagonal, according to the given proportion.\n",
    "    \n",
    "    Args:\n",
    "    matrix (np.ndarray): The input matrix.\n",
    "    proportion (float): The proportion of the matrix to be replaced with the given value.\n",
    "    value (int): The value to insert in the matrix.\n",
    "    \n",
    "    Returns:\n",
    "    np.ndarray: The modified matrix with clustered values near the diagonal.\n",
    "    \"\"\"\n",
    "    rows, cols = matrix.shape\n",
    "    total_elements = rows * cols\n",
    "    elements_to_replace = int(proportion * total_elements)\n",
    "\n",
    "    # Generate positions near the diagonal\n",
    "    diagonal_positions = []\n",
    "    for r in range(rows):\n",
    "        for c in range(cols):\n",
    "            # Prioritize cells closer to the diagonal (i.e., |r - c| is small)\n",
    "            if abs(r - c) <= 2:  # Allow some variation off the main diagonal for clustering\n",
    "                diagonal_positions.append((r, c))\n",
    "\n",
    "    # Randomly shuffle the diagonal positions\n",
    "    random.shuffle(diagonal_positions)\n",
    "\n",
    "    # Ensure there are enough positions to replace\n",
    "    if elements_to_replace > len(diagonal_positions):\n",
    "        # Add additional positions if needed\n",
    "        additional_positions_needed = elements_to_replace - len(diagonal_positions)\n",
    "        non_diagonal_positions = [(r, c) for r in range(rows) for c in range(cols) if abs(r - c) > 2]\n",
    "        random.shuffle(non_diagonal_positions)\n",
    "        diagonal_positions.extend(non_diagonal_positions[:additional_positions_needed])\n",
    "\n",
    "    # Select the exact number of positions needed\n",
    "    selected_positions = diagonal_positions[:elements_to_replace]\n",
    "\n",
    "    # Replace the selected positions in the matrix with the given value\n",
    "    for r, c in selected_positions:\n",
    "        matrix[r, c] = value\n",
    "    \n",
    "    return matrix\n",
    "\n",
    "# Example usage\n",
    "rows = 30\n",
    "cols = 30\n",
    "proportions = [0.2, 0.3, 0.2, 0.2, 0.0]  # Proportions for values 0, 1, 2, 3, 4\n",
    "matrix = create_strongly_clustered_matrix(rows, cols, proportions)\n",
    "\n",
    "proportion = 0.2  # Replace 20% of the matrix\n",
    "value = 4  # Replace with the value 4\n",
    "\n",
    "modified_matrix = replace_values_with_clustering(matrix, proportion, value)\n",
    "\n",
    "data_3d = np.ndarray(shape=(rows,cols, 3), dtype=int)\n",
    "for r in range(rows):\n",
    "    for c in range(cols):\n",
    "        data_3d[r][c]= color_map[modified_matrix[r][c]]\n",
    "fig, ax = plt.subplots()\n",
    "ax.imshow(data_3d)\n",
    "plt.show()\n",
    "\n",
    "\n"
   ]
  },
  {
   "cell_type": "markdown",
   "id": "d2caf3aa",
   "metadata": {},
   "source": [
    "# create matrix with k clusters of each type to make the given proportion"
   ]
  },
  {
   "cell_type": "code",
   "execution_count": 283,
   "id": "e3c85b12",
   "metadata": {},
   "outputs": [
    {
     "data": {
      "image/png": "[encoded data removed]",
      "text/plain": [
       "<Figure size 432x288 with 1 Axes>"
      ]
     },
     "metadata": {
      "needs_background": "light"
     },
     "output_type": "display_data"
    }
   ],
   "source": [
    "def get_neighbors(r, c):\n",
    "    \"\"\"Return the neighboring cells of (r, c)\"\"\"\n",
    "    neighbors = []\n",
    "    if r > 0:\n",
    "        neighbors.append((r-1, c))  # up\n",
    "    if r < rows-1:\n",
    "        neighbors.append((r+1, c))  # down\n",
    "    if c > 0:\n",
    "        neighbors.append((r, c-1))  # left\n",
    "    if c < cols-1:\n",
    "        neighbors.append((r, c+1))  # right\n",
    "    return neighbors\n",
    "\n",
    "def place_cluster(matrix,rows, cols,num_val,val,replace):\n",
    "    if num_val == 0:\n",
    "        return matrix\n",
    "    matrix_new = np.copy(matrix)\n",
    "    clustered = []\n",
    "    x = np.random.choice(np.arange(rows))\n",
    "    xprev = x\n",
    "    y = np.random.choice(np.arange(cols))\n",
    "    yprev=y\n",
    "    while matrix[x,y] != replace:\n",
    "        x = np.random.choice(np.arange(rows))\n",
    "        y = np.random.choice(np.arange(cols))\n",
    "    clustered.append([x,y])\n",
    "    matrix_new[x,y] = val\n",
    "    num_val -=1\n",
    "    \n",
    "    while num_val>0:\n",
    "        xprev = x\n",
    "        yprev = y\n",
    "        \n",
    "        #look at neighbors\n",
    "        neighbors=get_neighbors(x, y)\n",
    "        replaceable = np.array([n for n in neighbors if matrix_new[n]==replace])\n",
    "        if len(replaceable)>0:\n",
    "            x,y = replaceable[np.random.choice(np.arange(len(replaceable)))]\n",
    "            matrix_new[x,y] = val\n",
    "            clustered.append([x,y])\n",
    "            num_val -=1\n",
    "        else:\n",
    "            for el in clustered:\n",
    "                neighbors=get_neighbors(el[0],el[1])\n",
    "                replaceable = np.array([n for n in neighbors if matrix_new[n]==replace])\n",
    "                if len(replaceable)>0:\n",
    "                    x,y = replaceable[np.random.choice(np.arange(len(replaceable)))]\n",
    "                    matrix_new[x,y] = val\n",
    "                    clustered.append([x,y])\n",
    "                    num_val -=1\n",
    "                    break\n",
    "\n",
    "        if xprev==x and yprev==y:\n",
    "            x = np.random.choice(np.arange(rows))\n",
    "            y = np.random.choice(np.arange(cols))\n",
    "            while matrix_new[x,y] != replace:\n",
    "                x = np.random.choice(np.arange(rows))\n",
    "                y = np.random.choice(np.arange(cols))\n",
    "            clustered.append([x,y])\n",
    "            matrix_new[x,y] = val\n",
    "            num_val -=1\n",
    "   \n",
    "    return matrix_new,num_val\n",
    "    \n",
    "\n",
    "def generate_clustered_matrix(rows, cols, proportions, clusters_per_value):\n",
    "    matrix = np.zeros((rows,cols))\n",
    "    num_el = (rows*cols)*proportions\n",
    "    el_per_cluster = num_el/clusters_per_value\n",
    "    for i in range(len(clusters_per_value)):\n",
    "        for j in range(clusters_per_value[i]):\n",
    "            [matrix,num_val] =place_cluster(matrix,rows, cols,int(el_per_cluster[i]),i+1,0)\n",
    "    return matrix\n",
    "   \n",
    "\n",
    "rows, cols = 30, 30\n",
    "proportions = np.array([0.3, 0.2, 0.05, 0.25])  \n",
    "# Equal proportion for each value\n",
    "clusters_per_value = np.array([1, 3, 3, 1])  \n",
    "# Specify 3 clusters for each of values 1, 2, 3, and 4\n",
    "#[0,1,2,3,4]\n",
    "#[orchard,forest,residential,dump,waterbody]\n",
    "matrix = generate_clustered_matrix(rows, cols, proportions, clusters_per_value)\n",
    "\n",
    "data_3d = np.ndarray(shape=(rows,cols, 3), dtype=int)\n",
    "for r in range(rows):\n",
    "    for c in range(cols):\n",
    "        data_3d[r][c]= color_map[matrix[r][c]]\n",
    "fig, ax = plt.subplots()\n",
    "ax.imshow(data_3d)\n",
    "plt.show()"
   ]
  },
  {
   "cell_type": "code",
   "execution_count": 50,
   "id": "0b58e20d",
   "metadata": {},
   "outputs": [
    {
     "data": {
      "text/plain": [
       "<matplotlib.image.AxesImage at 0x7fab8193a8e0>"
      ]
     },
     "execution_count": 50,
     "metadata": {},
     "output_type": "execute_result"
    },
    {
     "data": {
      "image/png": "[encoded data removed]",
      "text/plain": [
       "<Figure size 432x288 with 1 Axes>"
      ]
     },
     "metadata": {
      "needs_background": "light"
     },
     "output_type": "display_data"
    }
   ],
   "source": [
    "#matrix_good = matrix.copy()\n",
    "#with open('base_fragmentation_matrix.pkl', 'wb') as f:\n",
    "#    pickle.dump(matrix_good, f)\n",
    "\n",
    "with open('base_fragmentation_matrix.pkl', 'rb') as f:\n",
    "    matrix_good = pickle.load(f)\n",
    "    \n",
    "plt.imshow(matrix_good.reshape(30,30))"
   ]
  },
  {
   "cell_type": "code",
   "execution_count": 21,
   "id": "5790d055",
   "metadata": {},
   "outputs": [
    {
     "data": {
      "text/plain": [
       "[<matplotlib.lines.Line2D at 0x7fab7cebed60>]"
      ]
     },
     "execution_count": 21,
     "metadata": {},
     "output_type": "execute_result"
    },
    {
     "data": {
      "image/png": "[encoded data removed]",
      "text/plain": [
       "<Figure size 432x288 with 1 Axes>"
      ]
     },
     "metadata": {
      "needs_background": "light"
     },
     "output_type": "display_data"
    }
   ],
   "source": [
    "t = np.arange(365*24)\n",
    "K = 1000\n",
    "r_test = (K/4)*np.sin(2*np.pi/(24*365)*t)+(3*K/4)\n",
    "plt.plot(t, r_test)"
   ]
  },
  {
   "cell_type": "code",
   "execution_count": 22,
   "id": "0d7fc66e",
   "metadata": {},
   "outputs": [
    {
     "data": {
      "text/plain": [
       "[<matplotlib.lines.Line2D at 0x7fab7d070cd0>]"
      ]
     },
     "execution_count": 22,
     "metadata": {},
     "output_type": "execute_result"
    },
    {
     "data": {
      "image/png": "[encoded data removed]",
      "text/plain": [
       "<Figure size 432x288 with 1 Axes>"
      ]
     },
     "metadata": {
      "needs_background": "light"
     },
     "output_type": "display_data"
    }
   ],
   "source": [
    "t = np.arange(365*24)\n",
    "K = 100\n",
    "r_test = (K/10)*np.sin(2*np.pi/(24*365)*t)+(9*K/10)\n",
    "plt.plot(t, r_test)"
   ]
  },
  {
   "cell_type": "code",
   "execution_count": 23,
   "id": "4157649e",
   "metadata": {},
   "outputs": [],
   "source": [
    "#function for creating patch network from matrix\n",
    "def create_patch_net(matrix,resources_map):\n",
    "    patch_net = {}\n",
    "    patch_names = []\n",
    "    dim =np.shape(matrix)\n",
    "    data_3d = np.ndarray(shape=(dim[0],dim[1], 3), dtype=int)\n",
    "    types = np.zeros((dim[0],dim[1]))\n",
    "    p_ids = np.zeros((dim[0],dim[1]))\n",
    "    xs = np.zeros((dim[0],1))\n",
    "    ys = np.zeros((dim[1],1))\n",
    "    t = np.arange(365*24)\n",
    "    count = 0\n",
    "    for i in range(dim[0]):\n",
    "        for j in range(dim[1]):\n",
    "            patch_net[count] = {}\n",
    "            patch_net[count]['patch_center']= [i+0.5,j+0.5]\n",
    "            p_type = matrix[i,j]\n",
    "            data_3d[i][j]= color_map[p_type]\n",
    "            types[i][j] = p_type\n",
    "            p_ids[i][j] = count\n",
    "            xs[i] = i+0.5\n",
    "            ys[j] = j+0.5\n",
    "            attr = resources_map[p_type]\n",
    "            K = np.random.choice(np.arange(attr[1],attr[2]))\n",
    "            patch_net[count]['max_cc']= K\n",
    "            if p_type in [0,1,4]:\n",
    "                patch_net[count]['carrying_capacity_yr'] = (K/4)*np.sin(2*np.pi/(24*365)*t)+(3*K/4)\n",
    "            else:\n",
    "                patch_net[count]['carrying_capacity_yr'] = (K/10)*np.sin(2*np.pi/(24*365)*t)+(9*K/10)\n",
    "                \n",
    "            patch_net[count]['p_type'] = p_type\n",
    "            patch_net[count]['init_resources']= np.random.choice(np.arange(0,K))\n",
    "            patch_net[count]['resource_birth'] = np.random.choice(np.arange(attr[3],attr[4],0.001))\n",
    "            patch_net[count]['Name'] = attr[0]\n",
    "            patch_net[count]['mat_index'] = [i,j]\n",
    "            patch_names.append(patch_net[count]['Name'])\n",
    "            count = count + 1\n",
    "    neighbors_dict = {}\n",
    "    is_edge = []\n",
    "    near_or_is_water = []\n",
    "    count = 0\n",
    "    for i in range(dim[0]):\n",
    "        for j in range(dim[1]):\n",
    "            neighbors_dict[count] = get_neighbours(types.T,i+1,j+1)\n",
    "            is_edge.append(len(np.where(neighbors_dict[count]=='Forest')[0])>0 and len(np.where(neighbors_dict[count]=='Forest')[0])<len(neighbors_dict[count]))\n",
    "            near_or_is_water.append('Water Body' in neighbors_dict[count] or resources_map[types[i,j]][0]=='Water Body')\n",
    "            count = count+1\n",
    "\n",
    "    count = 0\n",
    "    for i in range(dim[0]):\n",
    "        for j in range(dim[1]):\n",
    "            patch_net[count]['forrest_edge'] = is_edge[count]\n",
    "            patch_net[count]['water_prox'] = near_or_is_water[count]\n",
    "            count = count+1\n",
    "    return patch_net"
   ]
  },
  {
   "cell_type": "code",
   "execution_count": 51,
   "id": "ec506c8c",
   "metadata": {},
   "outputs": [],
   "source": [
    "resources_map = { 0: ['Orchard', 2000,10000,0.05,0.1],\n",
    "                  1: ['Forest', 1000,5000,0.05,0.1],\n",
    "                  2: ['Residential',50,100,0.1,0.5],\n",
    "                  3: ['Dump', 20,100,0.1,0.5],\n",
    "                  4: ['Water Body',10,200,0.05,0.1]\n",
    "                }\n",
    "\n",
    "test_pn = create_patch_net(matrix_good,resources_map)"
   ]
  },
  {
   "cell_type": "code",
   "execution_count": 52,
   "id": "4b837e18",
   "metadata": {},
   "outputs": [],
   "source": [
    "def determine_roost_locations(patch_network, min_num, max_num, type_pref):\n",
    "    num_roosts = np.random.choice(np.arange(min_num,max_num))\n",
    "    patches_of_pref = np.array([p for p in patch_network.keys() if patch_network[p]['p_type']==type_pref])\n",
    "    roosts = random.choices(patches_of_pref,k=num_roosts)\n",
    "    for r in roosts:\n",
    "        patch_network[r]['Name']='Roost'\n",
    "    return patch_network\n",
    "    "
   ]
  },
  {
   "cell_type": "code",
   "execution_count": 53,
   "id": "d049e445",
   "metadata": {},
   "outputs": [],
   "source": [
    "test_pn_roosts = determine_roost_locations(test_pn, 1, 3, 1)"
   ]
  },
  {
   "cell_type": "code",
   "execution_count": 54,
   "id": "224eabac",
   "metadata": {},
   "outputs": [
    {
     "data": {
      "text/plain": [
       "<matplotlib.colorbar.Colorbar at 0x7fab63718df0>"
      ]
     },
     "execution_count": 54,
     "metadata": {},
     "output_type": "execute_result"
    },
    {
     "data": {
      "image/png": "[encoded data removed]",
      "text/plain": [
       "<Figure size 432x288 with 2 Axes>"
      ]
     },
     "metadata": {
      "needs_background": "light"
     },
     "output_type": "display_data"
    }
   ],
   "source": [
    "rec = np.array([test_pn_roosts[p]['init_resources'] for p in test_pn_roosts.keys()])\n",
    "plt.imshow(rec.reshape(30,30))\n",
    "plt.colorbar()"
   ]
  },
  {
   "cell_type": "code",
   "execution_count": 69,
   "id": "27ff8aab",
   "metadata": {},
   "outputs": [],
   "source": [
    "def get_neighbours_nonsimilar(m,x,y,neighbors,remove_type):\n",
    "    rows, cols = range(len(m)),range(len(m[0]))\n",
    "    offsets = [(-1,-1),(-1,0),(-1,1),(0,-1),(0,1),(1,-1),(1,0),(1,1)]\n",
    "    for dy,dx in offsets:\n",
    "        ny, nx = y+dy, x+dx\n",
    "        if ny in rows and nx in cols:\n",
    "            if m[nx,ny]!= remove_type and m[nx,ny]!= 4:\n",
    "                neighbors.append([nx,ny])\n",
    "    return neighbors\n",
    "\n",
    "def get_key_from_mat_index(patch_net,index):\n",
    "    keys = np.array(list(patch_net.keys()))\n",
    "    indices = np.array([patch_net[p]['mat_index'] for p in keys])\n",
    "    bools = np.zeros(len(keys))\n",
    "    count = 0\n",
    "    for i in indices:\n",
    "        bools[count]=sum(i==index)\n",
    "        count += 1\n",
    "    key = keys[np.where(bools==2)][0]\n",
    "    return key\n",
    "\n",
    "def change_habitat_fragmentation(patch_net,matrix,fragment_type,neighbor_break, rows,cols):\n",
    "    #break up the cluster by switching places with neighboring types (if not waterbody)\n",
    "    #starting with edges\n",
    "    patch_net_new = patch_net.copy()\n",
    "    matrix_new = matrix.copy()\n",
    "    patches_of_type = np.array([patch_net_new[p]['mat_index'] for p in patch_net_new.keys() if patch_net_new[p]['p_type']==fragment_type])\n",
    "    \n",
    "    #check neighbors for each patch in patches of type\n",
    "    neighbors = []\n",
    "    for p in patches_of_type:\n",
    "        neighbors.append(get_neighbours_nonsimilar(matrix,p[0],p[1],[],1))\n",
    "    \n",
    "    for n in range(len(neighbors)):\n",
    "        #if the number of non-fragment_type neighbors is >= neighbor_break, fragment\n",
    "        if len(neighbors[n])>=neighbor_break:\n",
    "            #switch places with random neighbor in the network\n",
    "            to_switch_ind = np.random.choice(np.arange(len(neighbors[n])))\n",
    "            to_switch = neighbors[n][to_switch_ind]\n",
    "            key_to_switch1 = get_key_from_mat_index(patch_net_new,to_switch)\n",
    "            key_to_switch2 = get_key_from_mat_index(patch_net_new,patches_of_type[n])\n",
    "            temp1 = patch_net_new[key_to_switch1]\n",
    "            temp2 = patch_net_new[key_to_switch2]\n",
    "            patch_net_new[key_to_switch1] = temp2\n",
    "            patch_net_new[key_to_switch2] = temp1\n",
    "            matrix_new[patches_of_type[n][0],patches_of_type[n][1]]=matrix[to_switch[0],to_switch[1]]\n",
    "            matrix_new[to_switch[0],to_switch[1]] = fragment_type\n",
    "    \n",
    "    data_3d = np.ndarray(shape=(rows,cols, 3), dtype=int)\n",
    "    for r in range(rows):\n",
    "        for c in range(cols):\n",
    "            data_3d[r][c]= color_map[matrix_new[r][c]]\n",
    "    fig, ax = plt.subplots()\n",
    "    ax.imshow(data_3d)\n",
    "    plt.show()\n",
    "    return [patch_net_new,matrix_new]\n"
   ]
  },
  {
   "cell_type": "code",
   "execution_count": 71,
   "id": "0d522066",
   "metadata": {},
   "outputs": [
    {
     "data": {
      "image/png": "[encoded data removed]",
      "text/plain": [
       "<Figure size 432x288 with 1 Axes>"
      ]
     },
     "metadata": {
      "needs_background": "light"
     },
     "output_type": "display_data"
    },
    {
     "data": {
      "image/png": "[encoded data removed]",
      "text/plain": [
       "<Figure size 432x288 with 1 Axes>"
      ]
     },
     "metadata": {
      "needs_background": "light"
     },
     "output_type": "display_data"
    },
    {
     "data": {
      "image/png": "[encoded data removed]",
      "text/plain": [
       "<Figure size 432x288 with 1 Axes>"
      ]
     },
     "metadata": {
      "needs_background": "light"
     },
     "output_type": "display_data"
    }
   ],
   "source": [
    "### dists = direct_paths_dist(test_pn_roosts)\n",
    "for i in range(len(test_pn_roosts.keys())):\n",
    "    test_pn_roosts[i]['dist'] = dists[i,:]\n",
    "with open('fragmentation_net_base.pkl', 'wb') as f:\n",
    "    pickle.dump(test_pn_roosts, f)\n",
    "    \n",
    "[patch_net_new,matrix_new]=change_habitat_fragmentation(test_pn_roosts,matrix_good,1,1,30,30)\n",
    "dists = direct_paths_dist(patch_net_new)\n",
    "for i in range(len(patch_net_new.keys())):\n",
    "    patch_net_new[i]['dist'] = dists[i,:]\n",
    "with open('fragmentation_net_i1.pkl', 'wb') as f:\n",
    "    pickle.dump(patch_net_new, f)\n",
    "\n",
    "    \n",
    "[patch_net_new2,matrix_new2]=change_habitat_fragmentation(patch_net_new,matrix_new,1,1,30,30)\n",
    "dists = direct_paths_dist(patch_net_new2)\n",
    "for i in range(len(patch_net_new2.keys())):\n",
    "    patch_net_new2[i]['dist'] = dists[i,:]\n",
    "with open('fragmentation_net_i2.pkl', 'wb') as f:\n",
    "    pickle.dump(patch_net_new2, f)\n",
    "\n",
    "\n",
    "[patch_net_new3,matrix_new3]=change_habitat_fragmentation(patch_net_new2,matrix_new2,1,1,30,30)\n",
    "dists = direct_paths_dist(patch_net_new3)\n",
    "for i in range(len(patch_net_new3.keys())):\n",
    "    patch_net_new3[i]['dist'] = dists[i,:]\n",
    "with open('fragmentation_net_i3.pkl', 'wb') as f:\n",
    "    pickle.dump(patch_net_new3, f)"
   ]
  },
  {
   "cell_type": "markdown",
   "id": "1568cf38",
   "metadata": {},
   "source": [
    "# Precalculate preferred paths\n",
    "- direct paths\n",
    "- avoid residential\n",
    "- close to water\n",
    "- close to forest\n",
    "\n",
    "resources_map = { 0: ['Orchard', 2000,5000,0.05,0.1],\n",
    "                  1: ['Forest', 1000,3000,0.0,0.1],\n",
    "                  2: ['Residential',500,1000,0.1,0.5],\n",
    "                  3: ['Dump', 200,1000,0.1,0.5],\n",
    "                  4: ['Water Body',100,3000,0.0,0.1]\n",
    "                }"
   ]
  },
  {
   "cell_type": "code",
   "execution_count": 30,
   "id": "33b2eae3",
   "metadata": {},
   "outputs": [],
   "source": [
    "resources_map = { 0: ['Orchard', 2000,5000,0.05,0.1],\n",
    "                  1: ['Forest', 1000,2500,0.0,0.1],\n",
    "                  2: ['Residential',50,100,0.1,0.5],\n",
    "                  3: ['Dump', 20,100,0.1,0.5],\n",
    "                  4: ['Water Body',1000,2500,0.0,0.1]\n",
    "                }\n",
    "\n",
    "#resources_map = { 0: ['Orchard', 2000,5000,0.05,0.1], \n",
    "#                  1: ['Forest', 10,30,0.0,0.1], \n",
    "#                  2: ['Residential',5,10,0.1,0.5], \n",
    "#                  3: ['Dump', 2,10,0.1,0.5], \n",
    "#                  4: ['Water Body',1,30,0.0,0.1] \n",
    "#                 }"
   ]
  },
  {
   "cell_type": "code",
   "execution_count": 31,
   "id": "9bb45b9f",
   "metadata": {},
   "outputs": [
    {
     "ename": "NameError",
     "evalue": "name 'create_strongly_clustered_matrix' is not defined",
     "output_type": "error",
     "traceback": [
      "\u001b[0;31m---------------------------------------------------------------------------\u001b[0m",
      "\u001b[0;31mNameError\u001b[0m                                 Traceback (most recent call last)",
      "Input \u001b[0;32mIn [31]\u001b[0m, in \u001b[0;36m<cell line: 5>\u001b[0;34m()\u001b[0m\n\u001b[1;32m      3\u001b[0m cols \u001b[38;5;241m=\u001b[39m \u001b[38;5;241m10\u001b[39m\n\u001b[1;32m      4\u001b[0m proportions \u001b[38;5;241m=\u001b[39m [\u001b[38;5;241m0.2\u001b[39m, \u001b[38;5;241m0.1\u001b[39m, \u001b[38;5;241m0.5\u001b[39m, \u001b[38;5;241m0.1\u001b[39m, \u001b[38;5;241m0.1\u001b[39m]  \u001b[38;5;66;03m# Proportions for values 0, 1, 2, 3, 4\u001b[39;00m\n\u001b[0;32m----> 5\u001b[0m matrix \u001b[38;5;241m=\u001b[39m \u001b[43mcreate_strongly_clustered_matrix\u001b[49m(rows, cols, proportions)\n\u001b[1;32m      8\u001b[0m data_3d \u001b[38;5;241m=\u001b[39m np\u001b[38;5;241m.\u001b[39mndarray(shape\u001b[38;5;241m=\u001b[39m(rows,cols, \u001b[38;5;241m3\u001b[39m), dtype\u001b[38;5;241m=\u001b[39m\u001b[38;5;28mint\u001b[39m)\n\u001b[1;32m      9\u001b[0m \u001b[38;5;28;01mfor\u001b[39;00m r \u001b[38;5;129;01min\u001b[39;00m \u001b[38;5;28mrange\u001b[39m(rows):\n",
      "\u001b[0;31mNameError\u001b[0m: name 'create_strongly_clustered_matrix' is not defined"
     ]
    }
   ],
   "source": [
    "# test matrix\n",
    "rows = 10\n",
    "cols = 10\n",
    "proportions = [0.2, 0.1, 0.5, 0.1, 0.1]  # Proportions for values 0, 1, 2, 3, 4\n",
    "matrix = create_strongly_clustered_matrix(rows, cols, proportions)\n",
    "\n",
    "\n",
    "data_3d = np.ndarray(shape=(rows,cols, 3), dtype=int)\n",
    "for r in range(rows):\n",
    "    for c in range(cols):\n",
    "        data_3d[r][c]= color_map[matrix[r][c]]\n",
    "fig, ax = plt.subplots()\n",
    "ax.imshow(data_3d)\n",
    "plt.show()\n",
    "\n",
    "patch_net = {}\n",
    "patch_names = []\n",
    "data_3d = np.ndarray(shape=(10,10, 3), dtype=int)\n",
    "types = np.zeros((10,10))\n",
    "p_ids = np.zeros((10,10))\n",
    "xs = np.zeros((10,1))\n",
    "ys = np.zeros((10,1))\n",
    "count = 0\n",
    "for i in range(10):\n",
    "    for j in range(10):\n",
    "        patch_net[count] = {}\n",
    "        patch_net[count]['patch_center']= [i+0.5,j+0.5]\n",
    "        p_type = matrix[i,j]\n",
    "        data_3d[i][j]= color_map[p_type]\n",
    "        types[i][j] = p_type\n",
    "        p_ids[i][j] = count\n",
    "        xs[i] = i+0.5\n",
    "        ys[j] = j+0.5\n",
    "        attr = resources_map[p_type]\n",
    "        K = np.random.choice(np.arange(attr[1],attr[2]))\n",
    "        patch_net[count]['max_cc']= K\n",
    "        patch_net[count]['p_type'] = p_type\n",
    "        patch_net[count]['init_resources']= np.random.choice(np.arange(0,K))\n",
    "        patch_net[count]['resource_birth'] = np.random.choice(np.arange(attr[3],attr[4],0.001))\n",
    "        patch_net[count]['Name'] = attr[0]\n",
    "        patch_names.append(patch_net[count]['Name'])\n",
    "        count = count + 1\n",
    "\n",
    "# display the plot \n",
    "#fig, ax = plt.subplots()\n",
    "#ax.imshow(data_3d)\n",
    "#plt.show()\n",
    "\n",
    "\n",
    "neighbors_dict = {}\n",
    "is_edge = []\n",
    "near_or_is_water = []\n",
    "count = 0\n",
    "for i in range(10):\n",
    "    for j in range(10):\n",
    "        neighbors_dict[count] = get_neighbours(types.T,i+1,j+1)\n",
    "        is_edge.append(len(np.where(neighbors_dict[count]=='Forest')[0])>0 and len(np.where(neighbors_dict[count]=='Forest')[0])<len(neighbors_dict[count]))\n",
    "        near_or_is_water.append('Water Body' in neighbors_dict[count] or resources_map[types[i,j]][0]=='Water Body')\n",
    "        count = count+1\n",
    "\n",
    "count = 0\n",
    "for i in range(10):\n",
    "    for j in range(10):\n",
    "        patch_net[count]['forrest_edge'] = is_edge[count]\n",
    "        patch_net[count]['water_prox'] = near_or_is_water[count]\n",
    "        count = count+1\n",
    "        \n",
    "#fig, ax = plt.subplots()\n",
    "#plt.imshow(np.array(is_edge).reshape(types.shape))\n",
    "#plt.colorbar()\n",
    "#plt.show()\n",
    "#fig, ax = plt.subplots()\n",
    "#plt.imshow(np.array(near_or_is_water).reshape(types.shape))\n",
    "#plt.colorbar()\n",
    "#plt.show()\n",
    "\n",
    "classes_multi =np.zeros(types.shape)\n",
    "classes_multi=types\n",
    "count = 0\n",
    "t = np.arange(365*24)\n",
    "for i in range(classes_multi.shape[0]):\n",
    "    for j in range(classes_multi.shape[1]):\n",
    "        k1 = patch_net[count]['max_cc']\n",
    "        patch_net[count]['carrying_capacity_yr'] = k1*np.cos(2*np.pi/(24*365)*t)+k1\n",
    "        if i==10 and j==10:\n",
    "            patch_net[count]['Name']='Roost'\n",
    "        if i==5 and j==20:\n",
    "            patch_net[count]['Name']='Roost'\n",
    "        if i==17 and j==20:\n",
    "            patch_net[count]['Name']='Roost'\n",
    "        count=count+1\n",
    "\n",
    "        \n",
    "resources = np.asarray([patch_net[i]['init_resources'] for i in range(count)])\n",
    "\n",
    "data=np.array(resources.reshape(types.shape))\n",
    "plt.imshow(data,cmap='magma')\n",
    "plt.colorbar()\n",
    "plt.show()\n",
    "\n",
    "patch_net_rand = patch_net.copy()"
   ]
  },
  {
   "cell_type": "code",
   "execution_count": 32,
   "id": "b7bb136b",
   "metadata": {},
   "outputs": [],
   "source": [
    "def direct_paths_dist(patch_net):\n",
    "    direct_paths = []\n",
    "    centers_xs = np.array([patch_net[p]['patch_center'][0] for p in patch_net.keys()])\n",
    "    centers_ys = np.array([patch_net[p]['patch_center'][1] for p in patch_net.keys()])\n",
    "    for p in patch_net.keys():\n",
    "        p_coord = patch_net[p]['patch_center']\n",
    "        x = p_coord[0]\n",
    "        y = p_coord[1]\n",
    "        direct_paths.append(np.sqrt((centers_xs - x) ** 2 + (centers_ys - y) ** 2))\n",
    "    return np.array(direct_paths)"
   ]
  },
  {
   "cell_type": "code",
   "execution_count": 33,
   "id": "ae6e0e93",
   "metadata": {},
   "outputs": [
    {
     "ename": "NameError",
     "evalue": "name 'patch_net_rand' is not defined",
     "output_type": "error",
     "traceback": [
      "\u001b[0;31m---------------------------------------------------------------------------\u001b[0m",
      "\u001b[0;31mNameError\u001b[0m                                 Traceback (most recent call last)",
      "Input \u001b[0;32mIn [33]\u001b[0m, in \u001b[0;36m<cell line: 1>\u001b[0;34m()\u001b[0m\n\u001b[0;32m----> 1\u001b[0m test \u001b[38;5;241m=\u001b[39m direct_paths_dist(\u001b[43mpatch_net_rand\u001b[49m)\n\u001b[1;32m      2\u001b[0m patch_net_rand[\u001b[38;5;241m30\u001b[39m][\u001b[38;5;124m'\u001b[39m\u001b[38;5;124mName\u001b[39m\u001b[38;5;124m'\u001b[39m]\u001b[38;5;241m=\u001b[39m\u001b[38;5;124m'\u001b[39m\u001b[38;5;124mRoost\u001b[39m\u001b[38;5;124m'\u001b[39m\n\u001b[1;32m      3\u001b[0m patch_net_rand[\u001b[38;5;241m75\u001b[39m][\u001b[38;5;124m'\u001b[39m\u001b[38;5;124mName\u001b[39m\u001b[38;5;124m'\u001b[39m]\u001b[38;5;241m=\u001b[39m\u001b[38;5;124m'\u001b[39m\u001b[38;5;124mRoost\u001b[39m\u001b[38;5;124m'\u001b[39m\n",
      "\u001b[0;31mNameError\u001b[0m: name 'patch_net_rand' is not defined"
     ]
    }
   ],
   "source": [
    "test = direct_paths_dist(patch_net_rand)\n",
    "patch_net_rand[30]['Name']='Roost'\n",
    "patch_net_rand[75]['Name']='Roost'\n",
    "patch_net_rand[4]['Name']='Roost'\n",
    "for i in range(len(patch_net_rand.keys())):\n",
    "    patch_net_rand[i]['dist'] = test[i,:]"
   ]
  },
  {
   "cell_type": "code",
   "execution_count": 34,
   "id": "3403ac72",
   "metadata": {},
   "outputs": [
    {
     "ename": "NameError",
     "evalue": "name 'patch_net_rand' is not defined",
     "output_type": "error",
     "traceback": [
      "\u001b[0;31m---------------------------------------------------------------------------\u001b[0m",
      "\u001b[0;31mNameError\u001b[0m                                 Traceback (most recent call last)",
      "Input \u001b[0;32mIn [34]\u001b[0m, in \u001b[0;36m<cell line: 1>\u001b[0;34m()\u001b[0m\n\u001b[1;32m      1\u001b[0m \u001b[38;5;28;01mwith\u001b[39;00m \u001b[38;5;28mopen\u001b[39m(\u001b[38;5;124m'\u001b[39m\u001b[38;5;124msmall_synth_clustered_residential.pkl\u001b[39m\u001b[38;5;124m'\u001b[39m, \u001b[38;5;124m'\u001b[39m\u001b[38;5;124mwb\u001b[39m\u001b[38;5;124m'\u001b[39m) \u001b[38;5;28;01mas\u001b[39;00m f:\n\u001b[0;32m----> 2\u001b[0m     pickle\u001b[38;5;241m.\u001b[39mdump(\u001b[43mpatch_net_rand\u001b[49m, f)\n",
      "\u001b[0;31mNameError\u001b[0m: name 'patch_net_rand' is not defined"
     ]
    }
   ],
   "source": [
    "with open('small_synth_clustered_residential.pkl', 'wb') as f:\n",
    "    pickle.dump(patch_net_rand, f)"
   ]
  },
  {
   "cell_type": "code",
   "execution_count": 35,
   "id": "b28974a7",
   "metadata": {},
   "outputs": [
    {
     "ename": "NameError",
     "evalue": "name 'test' is not defined",
     "output_type": "error",
     "traceback": [
      "\u001b[0;31m---------------------------------------------------------------------------\u001b[0m",
      "\u001b[0;31mNameError\u001b[0m                                 Traceback (most recent call last)",
      "Input \u001b[0;32mIn [35]\u001b[0m, in \u001b[0;36m<cell line: 1>\u001b[0;34m()\u001b[0m\n\u001b[0;32m----> 1\u001b[0m \u001b[43mtest\u001b[49m\u001b[38;5;241m.\u001b[39mshape\n",
      "\u001b[0;31mNameError\u001b[0m: name 'test' is not defined"
     ]
    }
   ],
   "source": [
    "test.shape"
   ]
  },
  {
   "cell_type": "code",
   "execution_count": 36,
   "id": "b252e11c",
   "metadata": {},
   "outputs": [
    {
     "ename": "NameError",
     "evalue": "name 'test' is not defined",
     "output_type": "error",
     "traceback": [
      "\u001b[0;31m---------------------------------------------------------------------------\u001b[0m",
      "\u001b[0;31mNameError\u001b[0m                                 Traceback (most recent call last)",
      "Input \u001b[0;32mIn [36]\u001b[0m, in \u001b[0;36m<cell line: 1>\u001b[0;34m()\u001b[0m\n\u001b[0;32m----> 1\u001b[0m plt\u001b[38;5;241m.\u001b[39mimshow(\u001b[43mtest\u001b[49m[\u001b[38;5;241m0\u001b[39m]\u001b[38;5;241m.\u001b[39mreshape((\u001b[38;5;241m10\u001b[39m,\u001b[38;5;241m10\u001b[39m))) \u001b[38;5;66;03m#time in hrs\u001b[39;00m\n\u001b[1;32m      2\u001b[0m plt\u001b[38;5;241m.\u001b[39mcolorbar()\n",
      "\u001b[0;31mNameError\u001b[0m: name 'test' is not defined"
     ]
    }
   ],
   "source": [
    "plt.imshow(test[0].reshape((10,10))) #time in hrs\n",
    "plt.colorbar()"
   ]
  },
  {
   "cell_type": "code",
   "execution_count": 37,
   "id": "01b579da",
   "metadata": {},
   "outputs": [],
   "source": [
    "def path_on_grid_direct(start, end,ax):\n",
    "    #return line for plotting\n",
    "    start_coord = patch_net[start]['patch_center']\n",
    "    x_start = start_coord[0]\n",
    "    y_start = start_coord[1]\n",
    "    \n",
    "    end_coord = patch_net[end]['patch_center']\n",
    "    x_end = end_coord[0]\n",
    "    y_end = end_coord[1]\n",
    "    \n",
    "    if x_end==x_start:\n",
    "        ax.vlines(x = x_start, ymin = min(y_start,y_end), ymax = max(y_start,y_end))\n",
    "    elif y_end==y_start:\n",
    "        ax.hlines(y = y_start, xmin = min(x_start,x_end), xmax = max(x_start,x_end))\n",
    "    else:\n",
    "        m = ((y_end-y_start)/(x_end-x_start))\n",
    "        line = m*np.arange(x_start, x_end+1,1) + (y_start-(m*x_start))\n",
    "        ax.plot(np.arange(x_start, x_end+1,1),line)\n",
    "\n",
    "def path_on_grid_direct_next_point(start,end):\n",
    "    #return line for plotting\n",
    "    start_coord = patch_net[start]['patch_center']\n",
    "    x_start = start_coord[0]\n",
    "    y_start = start_coord[1]\n",
    "    \n",
    "    end_coord = patch_net[end]['patch_center']\n",
    "    x_end = end_coord[0]\n",
    "    y_end = end_coord[1]\n",
    "    \n",
    "    if start==end:\n",
    "        return end\n",
    "    elif x_end==x_start:\n",
    "        cx,cy = np.where(p_ids==start)\n",
    "        if start<end:\n",
    "            return int(p_ids[cx,cy+1]) \n",
    "        else:\n",
    "            return int(p_ids[cx,cy-1])\n",
    "    elif y_end==y_start:\n",
    "        cx,cy = np.where(p_ids==start)\n",
    "        if start<end:\n",
    "            return int(p_ids[cx+1,cy]) \n",
    "        else:\n",
    "            return int(p_ids[cx-1,cy])\n",
    "    else:\n",
    "        m = ((y_end-y_start)/(x_end-x_start))\n",
    "        if x_start<x_end:\n",
    "            x_range = np.arange(x_start, x_end+0.001,0.001)\n",
    "        else:\n",
    "            x_range = np.arange(x_end, x_start+0.001,0.001)\n",
    "        line = m*x_range + (y_start-(m*x_start))\n",
    "        check = line - y_start\n",
    "        y_val = line[np.where(abs(line - y_start)>0.5)][0]\n",
    "        x_val = x_range[np.where(abs(line - y_start)>0.5)][0]\n",
    "        return int(p_ids[np.argmin(abs(xs-x_val)),np.argmin(abs(ys-y_val))])"
   ]
  },
  {
   "cell_type": "code",
   "execution_count": 38,
   "id": "d8f58977",
   "metadata": {},
   "outputs": [],
   "source": [
    "def plot_pairs(pairs):\n",
    "    fig, ax = plt.subplots(figsize=(10,10))\n",
    "    ax.set_ylim(ymin=0, ymax = 10)\n",
    "    ax.set_xlim(xmin=0, xmax = 10)\n",
    "    #pairs are p_ids\n",
    "    for p in pairs:\n",
    "        path_on_grid_direct(p[0],p[1], ax)\n",
    "#plot_pairs(np.array([[0,200],[200,50],[50,600]]))"
   ]
  },
  {
   "cell_type": "code",
   "execution_count": 39,
   "id": "1162c5aa",
   "metadata": {},
   "outputs": [],
   "source": [
    "def get_neighbours_path(m,p):#p_ids,p_id\n",
    "    x = int(np.where(p_ids==p)[0])\n",
    "    y = int(np.where(p_ids==p)[1])\n",
    "    rows, cols = range(len(m)),range(len(m[0]))\n",
    "    offsets = [(-1,-1),(-1,0),(-1,1),(0,-1),(0,1),(1,-1),(1,0),(1,1)]\n",
    "    result = []\n",
    "    for dy,dx in offsets:\n",
    "        ny, nx = y+dy, x+dx\n",
    "        if ny in rows and nx in cols:\n",
    "            result.append(m[nx,ny])\n",
    "    return result"
   ]
  },
  {
   "cell_type": "code",
   "execution_count": 40,
   "id": "f94764e1",
   "metadata": {},
   "outputs": [],
   "source": [
    "def path_on_grid_preference_next_point(start,end,pref_type,path):\n",
    "    next_direct = path_on_grid_direct_next_point(start,end)\n",
    "    #check p_type of next direct\n",
    "    if patch_net[next_direct]['p_type'] in pref_type:\n",
    "        return next_direct\n",
    "    else:\n",
    "        #look at neighbors\n",
    "        neighbors = get_neighbours_path(p_ids,start)\n",
    "        # which neighbors are in correct direction (overlap between these neighbors and neighbors of direct)\n",
    "        neighbors_d = get_neighbours_path(p_ids,next_direct)\n",
    "        in_direction = list(set(neighbors) & set(neighbors_d))\n",
    "        if start in in_direction:\n",
    "            in_direction.remove(start)\n",
    "        in_direction = np.array(in_direction)\n",
    "        \n",
    "        types_in_direction = np.array([patch_net[int(p)]['p_type'] for p in in_direction])\n",
    "        for p in pref_type:\n",
    "            if p in types_in_direction:\n",
    "                options = in_direction[np.where(types_in_direction==p)]\n",
    "                options = np.array([o for o in options if o not in path])\n",
    "                if len(options)==0:\n",
    "                    return next_direct\n",
    "                return np.random.choice(options)\n",
    "        return next_direct"
   ]
  },
  {
   "cell_type": "code",
   "execution_count": 41,
   "id": "f25c22e9",
   "metadata": {},
   "outputs": [],
   "source": [
    "def path_on_grid_avoid_next_point(start,end,avoid_type,path):\n",
    "    next_direct = path_on_grid_direct_next_point(start,end)\n",
    "    #check p_type of next direct\n",
    "    if (patch_net[next_direct]['p_type'] not in avoid_type) or (next_direct==end):\n",
    "        return next_direct\n",
    "    else:\n",
    "        #look at neighbors\n",
    "        neighbors = get_neighbours_path(p_ids,start)\n",
    "        # which neighbors are in correct direction (overlap between these neighbors and neighbors of direct)\n",
    "        neighbors_d = get_neighbours_path(p_ids,next_direct)\n",
    "        in_direction = list(set(neighbors) & set(neighbors_d))\n",
    "        if start in in_direction:\n",
    "            in_direction.remove(start)\n",
    "        in_direction = np.array(in_direction)\n",
    "        \n",
    "        types_in_direction = np.array([patch_net[int(p)]['p_type'] for p in in_direction])\n",
    "        options = []\n",
    "        for p in avoid_type:\n",
    "            if p in types_in_direction:\n",
    "                vals = in_direction[np.where(types_in_direction!=p)]\n",
    "                for v in vals:\n",
    "                    options.append(v)\n",
    "        options = np.array(options)\n",
    "        options = options.flatten()\n",
    "        options = np.unique(options)\n",
    "        options = np.array([o for o in options if o not in path])\n",
    "        if len(options)==0:\n",
    "            return next_direct\n",
    "        return np.random.choice(options)\n",
    "    return next_direct"
   ]
  },
  {
   "cell_type": "code",
   "execution_count": 42,
   "id": "cc16d8bc",
   "metadata": {},
   "outputs": [
    {
     "ename": "KeyError",
     "evalue": "45",
     "output_type": "error",
     "traceback": [
      "\u001b[0;31m---------------------------------------------------------------------------\u001b[0m",
      "\u001b[0;31mKeyError\u001b[0m                                  Traceback (most recent call last)",
      "Input \u001b[0;32mIn [42]\u001b[0m, in \u001b[0;36m<cell line: 1>\u001b[0;34m()\u001b[0m\n\u001b[0;32m----> 1\u001b[0m \u001b[38;5;28mprint\u001b[39m(\u001b[43mpath_on_grid_avoid_next_point\u001b[49m\u001b[43m(\u001b[49m\u001b[38;5;241;43m45\u001b[39;49m\u001b[43m,\u001b[49m\u001b[38;5;241;43m56\u001b[39;49m\u001b[43m,\u001b[49m\u001b[43m[\u001b[49m\u001b[38;5;241;43m0\u001b[39;49m\u001b[43m]\u001b[49m\u001b[43m,\u001b[49m\u001b[43m[\u001b[49m\u001b[43m]\u001b[49m\u001b[43m)\u001b[49m)\n\u001b[1;32m      2\u001b[0m \u001b[38;5;28mprint\u001b[39m(np\u001b[38;5;241m.\u001b[39mwhere(p_ids\u001b[38;5;241m==\u001b[39mpath_on_grid_avoid_next_point(\u001b[38;5;241m45\u001b[39m,\u001b[38;5;241m56\u001b[39m,[\u001b[38;5;241m0\u001b[39m],[])))\n",
      "Input \u001b[0;32mIn [41]\u001b[0m, in \u001b[0;36mpath_on_grid_avoid_next_point\u001b[0;34m(start, end, avoid_type, path)\u001b[0m\n\u001b[1;32m      1\u001b[0m \u001b[38;5;28;01mdef\u001b[39;00m \u001b[38;5;21mpath_on_grid_avoid_next_point\u001b[39m(start,end,avoid_type,path):\n\u001b[0;32m----> 2\u001b[0m     next_direct \u001b[38;5;241m=\u001b[39m \u001b[43mpath_on_grid_direct_next_point\u001b[49m\u001b[43m(\u001b[49m\u001b[43mstart\u001b[49m\u001b[43m,\u001b[49m\u001b[43mend\u001b[49m\u001b[43m)\u001b[49m\n\u001b[1;32m      3\u001b[0m     \u001b[38;5;66;03m#check p_type of next direct\u001b[39;00m\n\u001b[1;32m      4\u001b[0m     \u001b[38;5;28;01mif\u001b[39;00m (patch_net[next_direct][\u001b[38;5;124m'\u001b[39m\u001b[38;5;124mp_type\u001b[39m\u001b[38;5;124m'\u001b[39m] \u001b[38;5;129;01mnot\u001b[39;00m \u001b[38;5;129;01min\u001b[39;00m avoid_type) \u001b[38;5;129;01mor\u001b[39;00m (next_direct\u001b[38;5;241m==\u001b[39mend):\n",
      "Input \u001b[0;32mIn [37]\u001b[0m, in \u001b[0;36mpath_on_grid_direct_next_point\u001b[0;34m(start, end)\u001b[0m\n\u001b[1;32m     20\u001b[0m \u001b[38;5;28;01mdef\u001b[39;00m \u001b[38;5;21mpath_on_grid_direct_next_point\u001b[39m(start,end):\n\u001b[1;32m     21\u001b[0m     \u001b[38;5;66;03m#return line for plotting\u001b[39;00m\n\u001b[0;32m---> 22\u001b[0m     start_coord \u001b[38;5;241m=\u001b[39m \u001b[43mpatch_net\u001b[49m\u001b[43m[\u001b[49m\u001b[43mstart\u001b[49m\u001b[43m]\u001b[49m[\u001b[38;5;124m'\u001b[39m\u001b[38;5;124mpatch_center\u001b[39m\u001b[38;5;124m'\u001b[39m]\n\u001b[1;32m     23\u001b[0m     x_start \u001b[38;5;241m=\u001b[39m start_coord[\u001b[38;5;241m0\u001b[39m]\n\u001b[1;32m     24\u001b[0m     y_start \u001b[38;5;241m=\u001b[39m start_coord[\u001b[38;5;241m1\u001b[39m]\n",
      "\u001b[0;31mKeyError\u001b[0m: 45"
     ]
    }
   ],
   "source": [
    "print(path_on_grid_avoid_next_point(45,56,[0],[]))\n",
    "print(np.where(p_ids==path_on_grid_avoid_next_point(45,56,[0],[])))"
   ]
  },
  {
   "cell_type": "code",
   "execution_count": 43,
   "id": "484b48e9",
   "metadata": {},
   "outputs": [],
   "source": [
    "def path_on_grid_full_next_point(start,end,prefer_type,avoid_type,path):\n",
    "    next_avoid = path_on_grid_avoid_next_point(start,end,avoid_type,path)\n",
    "    next_pref = path_on_grid_preference_next_point(start,end,prefer_type,path)\n",
    "    next_direct = path_on_grid_direct_next_point(start,end)\n",
    "    if next_avoid==next_pref:\n",
    "        return next_pref\n",
    "    elif next_avoid == next_direct:\n",
    "        return next_direct\n",
    "    elif next_pref == next_direct:\n",
    "        return next_direct\n",
    "    elif (patch_net[next_direct]['p_type'] not in avoid_type) and (patch_net[next_direct]['p_type'] in prefer_type):\n",
    "        return next_direct\n",
    "    else:\n",
    "        #look at neighbors\n",
    "        neighbors = get_neighbours_path(p_ids,start)\n",
    "        # which neighbors are in correct direction (overlap between these neighbors and neighbors of direct)\n",
    "        neighbors_d = get_neighbours_path(p_ids,next_direct)\n",
    "        in_direction = list(set(neighbors) & set(neighbors_d))\n",
    "        if start in in_direction:\n",
    "            in_direction.remove(start)\n",
    "        in_direction = np.array(in_direction)\n",
    "        \n",
    "        types_in_direction = np.array([patch_net[int(p)]['p_type'] for p in in_direction])\n",
    "        options = []\n",
    "        for p in avoid_type:\n",
    "            if p in types_in_direction:\n",
    "                vals = in_direction[np.where(types_in_direction!=p)]\n",
    "                for v in vals:\n",
    "                    options.append(v)\n",
    "        for p in prefer_type:\n",
    "            if p in prefer_type:\n",
    "                vals = in_direction[np.where(types_in_direction==p)]\n",
    "                for v in vals:\n",
    "                    options.append(v)\n",
    "        options = np.array(options)\n",
    "        options = options.flatten()\n",
    "        options = np.unique(options)\n",
    "        options = np.array([o for o in options if o not in path])\n",
    "        if len(options)==0:\n",
    "            return next_direct\n",
    "        return np.random.choice(options)\n",
    "    return next_direct"
   ]
  },
  {
   "cell_type": "code",
   "execution_count": 44,
   "id": "85952727",
   "metadata": {},
   "outputs": [],
   "source": [
    "def paths_avoid_or_prefer_types(patch_net,avoid,prefer,start,end):\n",
    "    #avoid will be a list of patch types to avoid when picking a path in order from worst to least bad\n",
    "    #prefer is similar but opposite\n",
    "    cur = start\n",
    "    path = []\n",
    "    path.append(start)\n",
    "    count = 0\n",
    "    if len(avoid)==0 and len(prefer)==0:\n",
    "        #do direct route, calculate line, then choose next patch along line\n",
    "        while cur != end:\n",
    "            next_point = path_on_grid_direct_next_point(cur,end)\n",
    "            path.append(next_point)\n",
    "            cur = next_point\n",
    "            count = count+1\n",
    "            if count >500:\n",
    "                print('error')\n",
    "                break\n",
    "    elif len(avoid)==0 and len(prefer)>0:\n",
    "        # look at line of direct path, if a neighboring patch in a similar direction is the prefered type, choose that one\n",
    "        # if not stick to direct\n",
    "        while cur != end:\n",
    "            next_point = path_on_grid_preference_next_point(cur,end,prefer,path)\n",
    "            path.append(next_point)\n",
    "            cur = next_point\n",
    "    elif len(avoid)>0 and len(prefer)==0:\n",
    "        # look at line of direct path, if a neighboring patch in a similar direction is the prefered type, choose that one\n",
    "        # if not stick to direct\n",
    "        while cur != end:\n",
    "            next_point = path_on_grid_avoid_next_point(cur,end,avoid,path)\n",
    "            path.append(next_point)\n",
    "            cur = next_point\n",
    "    else:\n",
    "        while cur != end:\n",
    "            next_point = path_on_grid_avoid_next_point(cur,end,avoid,path)\n",
    "            path.append(next_point)\n",
    "            cur = next_point\n",
    "        \n",
    "    return np.array(path)"
   ]
  },
  {
   "cell_type": "code",
   "execution_count": 45,
   "id": "f5c1513d",
   "metadata": {},
   "outputs": [
    {
     "ename": "NameError",
     "evalue": "name 'patch_net_rand' is not defined",
     "output_type": "error",
     "traceback": [
      "\u001b[0;31m---------------------------------------------------------------------------\u001b[0m",
      "\u001b[0;31mNameError\u001b[0m                                 Traceback (most recent call last)",
      "Input \u001b[0;32mIn [45]\u001b[0m, in \u001b[0;36m<cell line: 1>\u001b[0;34m()\u001b[0m\n\u001b[0;32m----> 1\u001b[0m \u001b[38;5;28mprint\u001b[39m(paths_avoid_or_prefer_types(\u001b[43mpatch_net_rand\u001b[49m,[],[\u001b[38;5;241m4\u001b[39m],\u001b[38;5;241m0\u001b[39m,\u001b[38;5;241m50\u001b[39m))\n",
      "\u001b[0;31mNameError\u001b[0m: name 'patch_net_rand' is not defined"
     ]
    }
   ],
   "source": [
    "print(paths_avoid_or_prefer_types(patch_net_rand,[],[4],0,50))"
   ]
  },
  {
   "cell_type": "code",
   "execution_count": 46,
   "id": "1e5f59d9",
   "metadata": {},
   "outputs": [
    {
     "ename": "NameError",
     "evalue": "name 'patch_net_rand' is not defined",
     "output_type": "error",
     "traceback": [
      "\u001b[0;31m---------------------------------------------------------------------------\u001b[0m",
      "\u001b[0;31mNameError\u001b[0m                                 Traceback (most recent call last)",
      "Input \u001b[0;32mIn [46]\u001b[0m, in \u001b[0;36m<cell line: 1>\u001b[0;34m()\u001b[0m\n\u001b[0;32m----> 1\u001b[0m \u001b[38;5;28mprint\u001b[39m(paths_avoid_or_prefer_types(\u001b[43mpatch_net_rand\u001b[49m,[],[\u001b[38;5;241m0\u001b[39m,\u001b[38;5;241m1\u001b[39m,\u001b[38;5;241m4\u001b[39m],\u001b[38;5;241m0\u001b[39m,\u001b[38;5;241m50\u001b[39m))\n",
      "\u001b[0;31mNameError\u001b[0m: name 'patch_net_rand' is not defined"
     ]
    }
   ],
   "source": [
    "print(paths_avoid_or_prefer_types(patch_net_rand,[],[0,1,4],0,50))"
   ]
  },
  {
   "cell_type": "code",
   "execution_count": 47,
   "id": "a602959c",
   "metadata": {},
   "outputs": [
    {
     "ename": "NameError",
     "evalue": "name 'patch_net_rand' is not defined",
     "output_type": "error",
     "traceback": [
      "\u001b[0;31m---------------------------------------------------------------------------\u001b[0m",
      "\u001b[0;31mNameError\u001b[0m                                 Traceback (most recent call last)",
      "Input \u001b[0;32mIn [47]\u001b[0m, in \u001b[0;36m<cell line: 1>\u001b[0;34m()\u001b[0m\n\u001b[0;32m----> 1\u001b[0m \u001b[38;5;28mprint\u001b[39m(paths_avoid_or_prefer_types(\u001b[43mpatch_net_rand\u001b[49m,[\u001b[38;5;241m4\u001b[39m],[],\u001b[38;5;241m0\u001b[39m,\u001b[38;5;241m50\u001b[39m))\n",
      "\u001b[0;31mNameError\u001b[0m: name 'patch_net_rand' is not defined"
     ]
    }
   ],
   "source": [
    "print(paths_avoid_or_prefer_types(patch_net_rand,[4],[],0,50))"
   ]
  },
  {
   "cell_type": "code",
   "execution_count": 129,
   "id": "cc86e3f9",
   "metadata": {},
   "outputs": [
    {
     "name": "stdout",
     "output_type": "stream",
     "text": [
      "[ 0 11 32 53 63 73]\n"
     ]
    }
   ],
   "source": [
    "print(paths_avoid_or_prefer_types(patch_net_rand,[2],[],0,73))"
   ]
  },
  {
   "cell_type": "code",
   "execution_count": 130,
   "id": "5816b525",
   "metadata": {},
   "outputs": [
    {
     "data": {
      "text/plain": [
       "(array([2]), array([0]))"
      ]
     },
     "execution_count": 130,
     "metadata": {},
     "output_type": "execute_result"
    }
   ],
   "source": [
    "np.where(p_ids==20)\n",
    "         "
   ]
  },
  {
   "cell_type": "code",
   "execution_count": 131,
   "id": "a82eaa37",
   "metadata": {},
   "outputs": [
    {
     "name": "stdout",
     "output_type": "stream",
     "text": [
      "[ 0 10 20 30 40 50]\n"
     ]
    }
   ],
   "source": [
    "print(paths_avoid_or_prefer_types(patch_net_rand,[0,1,4],[],0,50))"
   ]
  },
  {
   "cell_type": "code",
   "execution_count": 132,
   "id": "341d4c83",
   "metadata": {},
   "outputs": [
    {
     "name": "stdout",
     "output_type": "stream",
     "text": [
      "[ 0 10 20 30 40 50]\n"
     ]
    }
   ],
   "source": [
    "print(paths_avoid_or_prefer_types(patch_net_rand,[1],[3],0,50))"
   ]
  },
  {
   "cell_type": "code",
   "execution_count": 133,
   "id": "1a51b90b",
   "metadata": {},
   "outputs": [],
   "source": [
    "def calculate_dist_traveled_centers(patch_net,path):\n",
    "    pairs = [(path[i],path[i+1]) for i in range(len(path)-1)]\n",
    "    dists = direct_paths_dist(patch_net)\n",
    "    total_dist = 0\n",
    "    for pair in pairs:\n",
    "        total_dist += dists[int(pair[0]),int(pair[1])]\n",
    "    return total_dist"
   ]
  },
  {
   "cell_type": "code",
   "execution_count": 134,
   "id": "11ad69bf",
   "metadata": {},
   "outputs": [
    {
     "data": {
      "text/plain": [
       "5.0"
      ]
     },
     "execution_count": 134,
     "metadata": {},
     "output_type": "execute_result"
    }
   ],
   "source": [
    "calculate_dist_traveled_centers(patch_net,paths_avoid_or_prefer_types(patch_net_rand,[1],[3],0,50))"
   ]
  },
  {
   "cell_type": "code",
   "execution_count": 135,
   "id": "3a87bc27",
   "metadata": {},
   "outputs": [
    {
     "data": {
      "text/plain": [
       "5.0"
      ]
     },
     "execution_count": 135,
     "metadata": {},
     "output_type": "execute_result"
    }
   ],
   "source": [
    "dists = direct_paths_dist(patch_net)\n",
    "dists[0,50]"
   ]
  },
  {
   "cell_type": "code",
   "execution_count": 136,
   "id": "1acb6ea7",
   "metadata": {},
   "outputs": [],
   "source": [
    "def get_distance_distributions(patch_net, pref, avoid, l,w):\n",
    "    dist = np.zeros((l*w,l,w))\n",
    "    for c in range(l*w):\n",
    "        print(c)\n",
    "        for i in range(l):\n",
    "            for j in range(w):\n",
    "                if i != j:\n",
    "                    #print(i,j)\n",
    "                    path = paths_avoid_or_prefer_types(patch_net,avoid,pref,i,j)\n",
    "                    dist[c][i,j] = calculate_dist_traveled_centers(patch_net,path)\n",
    "                else:\n",
    "                    dist[c][i,j]= 0\n",
    "        print(c)\n",
    "    return dist"
   ]
  },
  {
   "cell_type": "code",
   "execution_count": 137,
   "id": "bacc8a0f",
   "metadata": {},
   "outputs": [],
   "source": [
    "dist = np.zeros((100,100))\n",
    "for i in range(100):\n",
    "    for j in range(100):\n",
    "        if i != j:\n",
    "            path = paths_avoid_or_prefer_types(patch_net_rand,[2],[],i,j)\n",
    "            dist[i,j] = calculate_dist_traveled_centers(patch_net_rand,path)\n",
    "        else:\n",
    "            dist[i,j]= 0\n",
    "        "
   ]
  },
  {
   "cell_type": "code",
   "execution_count": 138,
   "id": "ab4c7b08",
   "metadata": {},
   "outputs": [
    {
     "data": {
      "text/plain": [
       "<matplotlib.colorbar.Colorbar at 0x7f9539185cd0>"
      ]
     },
     "execution_count": 138,
     "metadata": {},
     "output_type": "execute_result"
    },
    {
     "data": {
      "image/png": "[encoded data removed]",
      "text/plain": [
       "<Figure size 432x288 with 2 Axes>"
      ]
     },
     "metadata": {
      "needs_background": "light"
     },
     "output_type": "display_data"
    }
   ],
   "source": [
    "plt.imshow(dist[70].reshape((10,10)))\n",
    "plt.colorbar()"
   ]
  },
  {
   "cell_type": "code",
   "execution_count": 139,
   "id": "89e09fc9",
   "metadata": {},
   "outputs": [
    {
     "name": "stdout",
     "output_type": "stream",
     "text": [
      "[ 0 10 20 30 40 50 60 70]\n"
     ]
    },
    {
     "data": {
      "text/plain": [
       "7.0"
      ]
     },
     "execution_count": 139,
     "metadata": {},
     "output_type": "execute_result"
    }
   ],
   "source": [
    "path = paths_avoid_or_prefer_types(patch_net_rand,[],[],0,70)\n",
    "print(path)\n",
    "calculate_dist_traveled_centers(patch_net_rand,path)"
   ]
  },
  {
   "cell_type": "code",
   "execution_count": 140,
   "id": "56983643",
   "metadata": {},
   "outputs": [
    {
     "name": "stdout",
     "output_type": "stream",
     "text": [
      "[ 0. 10. 20. 30. 41. 60. 70.]\n"
     ]
    },
    {
     "data": {
      "text/plain": [
       "7.650281539872885"
      ]
     },
     "execution_count": 140,
     "metadata": {},
     "output_type": "execute_result"
    }
   ],
   "source": [
    "path = paths_avoid_or_prefer_types(patch_net_rand,[2],[],0,70)\n",
    "print(path)\n",
    "calculate_dist_traveled_centers(patch_net_rand,path)"
   ]
  },
  {
   "cell_type": "code",
   "execution_count": null,
   "id": "17d47d1c",
   "metadata": {},
   "outputs": [],
   "source": []
  }
 ],
 "metadata": {
  "kernelspec": {
   "display_name": "Python 3 (ipykernel)",
   "language": "python",
   "name": "python3"
  },
  "language_info": {
   "codemirror_mode": {
    "name": "ipython",
    "version": 3
   },
   "file_extension": ".py",
   "mimetype": "text/x-python",
   "name": "python",
   "nbconvert_exporter": "python",
   "pygments_lexer": "ipython3",
   "version": "3.9.12"
  }
 },
 "nbformat": 4,
 "nbformat_minor": 5
}
