{
 "cells": [
  {
   "cell_type": "code",
   "execution_count": 18,
   "id": "d11d3f45",
   "metadata": {},
   "outputs": [],
   "source": [
    "import numpy as np\n",
    "import random"
   ]
  },
  {
   "cell_type": "code",
   "execution_count": 19,
   "id": "f4c4af07",
   "metadata": {},
   "outputs": [],
   "source": [
    "patch_net = {0: {'Name': 'Roost', 'carrying_capacity': 1, 'init_resources': 0, 'resource_birth': 0,\n",
    "                 'patch_center': [0.5,0.5], 'bat_resource_conversion': 0, 'Res':np.array([0,0])},\n",
    "             1: {'Name': 'Residential', 'carrying_capacity': 1000, 'init_resources': 1000, 'resource_birth': 0.05,\n",
    "                 'patch_center': [1.5,0.5], 'bat_resource_conversion': 0.9, 'Res':np.array([0,1])},\n",
    "             2: {'Name': 'Residential 2', 'carrying_capacity': 1000, 'init_resources': 1000, 'resource_birth': 0.05,\n",
    "                 'patch_center': [2.5,0.5], 'bat_resource_conversion': 0.9, 'Res':np.array([0,1])},\n",
    "             3: {'Name': 'Orchard', 'carrying_capacity': 1000, 'init_resources': 1000, 'resource_birth': 0.01,\n",
    "                 'patch_center': [0.5,1.5], 'bat_resource_conversion': 0.9, 'Res':np.array([1,0])},\n",
    "             4: {'Name': 'Orchard 2', 'carrying_capacity': 1000, 'init_resources': 1000, 'resource_birth': 0.01,\n",
    "                 'patch_center': [1.5,1.5], 'bat_resource_conversion': 0.9, 'Res':np.array([1,0])},\n",
    "             5: {'Name': 'Dump', 'carrying_capacity': 500, 'init_resources': 100, 'resource_birth': 0.5,\n",
    "                 'patch_center': [2.5,1.5], 'bat_resource_conversion': 0.9, 'Res':np.array([0,1])}}"
   ]
  },
  {
   "cell_type": "code",
   "execution_count": 20,
   "id": "0bf41b70",
   "metadata": {},
   "outputs": [],
   "source": [
    "patch_types = ['Roost','Forest']#['Roost', 'Residential', 'Orchard', 'Water Body', 'Forest', 'Dump']\n",
    "patch_names = random.choices(patch_types,weights = [1/100,99/100],k=100)#[1/100, 20/100, 10/100,10/100,50/100, 9/100], k = 100)\n",
    "while 'Roost' not in patch_names:\n",
    "    patch_names = random.choices(patch_types,weights = [1/100,99/100],k=100)#[1/100, 20/100, 10/100,10/100,50/100, 9/100], k = 100)"
   ]
  },
  {
   "cell_type": "code",
   "execution_count": 21,
   "id": "27aea895",
   "metadata": {},
   "outputs": [],
   "source": [
    "#create patch network that is 10x10\n",
    "\n",
    "patch_net_10x10 = {}\n",
    "resources = np.zeros((10,10))\n",
    "count = 0\n",
    "K = np.random.choice(np.arange(1,500))\n",
    "rb = 0#np.random.choice(np.arange(0,0.1,0.001))\n",
    "\n",
    "for i in range(10):\n",
    "    for j in range(10):\n",
    "        patch_net_10x10[count] ={}\n",
    "        patch_net_10x10[count]['Name']= patch_names[count]\n",
    "        patch_net_10x10[count]['patch_center']= [i+0.5,j+0.5]\n",
    "        patch_net_10x10[count]['carrying_capacity']= K\n",
    "        patch_net_10x10[count]['init_resources']= np.random.choice(np.arange(1,K+1))\n",
    "        resources[i,j]=patch_net_10x10[count]['init_resources']\n",
    "        patch_net_10x10[count]['resource_birth'] = rb\n",
    "        if patch_net_10x10[count]['Name'] in ['Residential','Dump']:\n",
    "            patch_net_10x10[count]['Res']=np.array([0,1])\n",
    "        elif patch_net_10x10[count]['Name'] in ['Orchard', 'Water Body', 'Forest']:\n",
    "            patch_net_10x10[count]['Res']=np.array([1,0])\n",
    "        else:\n",
    "            patch_net_10x10[count]['Res']=np.array([0.5,0.5])\n",
    "        count = count+1\n",
    "            \n",
    "            "
   ]
  },
  {
   "cell_type": "code",
   "execution_count": 22,
   "id": "55afde42",
   "metadata": {},
   "outputs": [],
   "source": [
    "import pickle \n",
    "\n",
    "with open('test_small_synth_patch_net.pkl', 'wb') as f:\n",
    "    pickle.dump(patch_net_10x10, f)\n"
   ]
  },
  {
   "cell_type": "code",
   "execution_count": 23,
   "id": "db6dff55",
   "metadata": {},
   "outputs": [
    {
     "data": {
      "text/plain": [
       "0"
      ]
     },
     "execution_count": 23,
     "metadata": {},
     "output_type": "execute_result"
    }
   ],
   "source": [
    "rb"
   ]
  },
  {
   "cell_type": "code",
   "execution_count": 24,
   "id": "bca6c894",
   "metadata": {},
   "outputs": [
    {
     "data": {
      "image/png": "[encoded data removed]",
      "text/plain": [
       "<Figure size 432x288 with 2 Axes>"
      ]
     },
     "metadata": {
      "needs_background": "light"
     },
     "output_type": "display_data"
    }
   ],
   "source": [
    "import matplotlib.pyplot as plt\n",
    "data=np.array(resources)\n",
    "plt.imshow(data,cmap='magma')\n",
    "plt.colorbar()\n",
    "plt.show()"
   ]
  },
  {
   "cell_type": "code",
   "execution_count": 8,
   "id": "a0dc4bfe",
   "metadata": {},
   "outputs": [
    {
     "name": "stdout",
     "output_type": "stream",
     "text": [
      "9.9\n",
      "19.0\n"
     ]
    }
   ],
   "source": [
    "print(np.mean(resources))\n",
    "print(np.max(resources))"
   ]
  },
  {
   "cell_type": "code",
   "execution_count": 9,
   "id": "2a4d6557",
   "metadata": {},
   "outputs": [
    {
     "ename": "IndexError",
     "evalue": "index 4 is out of bounds for axis 0 with size 2",
     "output_type": "error",
     "traceback": [
      "\u001b[0;31m---------------------------------------------------------------------------\u001b[0m",
      "\u001b[0;31mIndexError\u001b[0m                                Traceback (most recent call last)",
      "Input \u001b[0;32mIn [9]\u001b[0m, in \u001b[0;36m<cell line: 2>\u001b[0;34m()\u001b[0m\n\u001b[1;32m     10\u001b[0m     patch_type_dist[\u001b[38;5;241m3\u001b[39m]\u001b[38;5;241m+\u001b[39m\u001b[38;5;241m=\u001b[39m\u001b[38;5;241m1\u001b[39m\n\u001b[1;32m     11\u001b[0m \u001b[38;5;28;01mif\u001b[39;00m p\u001b[38;5;241m==\u001b[39m\u001b[38;5;124m'\u001b[39m\u001b[38;5;124mForest\u001b[39m\u001b[38;5;124m'\u001b[39m:\n\u001b[0;32m---> 12\u001b[0m     patch_type_dist[\u001b[38;5;241m4\u001b[39m]\u001b[38;5;241m+\u001b[39m\u001b[38;5;241m=\u001b[39m\u001b[38;5;241m1\u001b[39m\n\u001b[1;32m     13\u001b[0m \u001b[38;5;28;01mif\u001b[39;00m p\u001b[38;5;241m==\u001b[39m\u001b[38;5;124m'\u001b[39m\u001b[38;5;124mDump\u001b[39m\u001b[38;5;124m'\u001b[39m:\n\u001b[1;32m     14\u001b[0m     patch_type_dist[\u001b[38;5;241m5\u001b[39m]\u001b[38;5;241m+\u001b[39m\u001b[38;5;241m=\u001b[39m\u001b[38;5;241m1\u001b[39m\n",
      "\u001b[0;31mIndexError\u001b[0m: index 4 is out of bounds for axis 0 with size 2"
     ]
    }
   ],
   "source": [
    "patch_type_dist = np.zeros(len(patch_types))\n",
    "for p in patch_names:\n",
    "    if p=='Roost':\n",
    "        patch_type_dist[0]+=1\n",
    "    if p=='Residential':\n",
    "        patch_type_dist[1]+=1\n",
    "    if p=='Orchard':\n",
    "        patch_type_dist[2]+=1\n",
    "    if p=='Water Body':\n",
    "        patch_type_dist[3]+=1\n",
    "    if p=='Forest':\n",
    "        patch_type_dist[4]+=1\n",
    "    if p=='Dump':\n",
    "        patch_type_dist[5]+=1\n",
    "\n",
    "patch_probs = np.array([0.        , 0.53710742, 0.26605321, 0.06561312, 0.06561312,\n",
    "       0.06561313])\n",
    "\n",
    "patch_dist = np.zeros(len(patch_names))\n",
    "count = 0\n",
    "for p in patch_names:\n",
    "    if p=='Roost':\n",
    "        patch_dist[count]=0\n",
    "    if p=='Residential':\n",
    "        patch_dist[count]=patch_probs[1]/patch_type_dist[1]\n",
    "    if p=='Orchard':\n",
    "        patch_dist[count]=patch_probs[2]/patch_type_dist[2]\n",
    "    if p=='Water Body':\n",
    "        patch_dist[count]=patch_probs[3]/patch_type_dist[3]\n",
    "    if p=='Forest':\n",
    "        patch_dist[count]=patch_probs[4]/patch_type_dist[4]\n",
    "    if p=='Dump':\n",
    "        patch_dist[count]=patch_probs[5]/patch_type_dist[5]\n",
    "    count = count+1"
   ]
  },
  {
   "cell_type": "code",
   "execution_count": 10,
   "id": "6ad55c05",
   "metadata": {},
   "outputs": [
    {
     "ename": "NameError",
     "evalue": "name 'patch_dist' is not defined",
     "output_type": "error",
     "traceback": [
      "\u001b[0;31m---------------------------------------------------------------------------\u001b[0m",
      "\u001b[0;31mNameError\u001b[0m                                 Traceback (most recent call last)",
      "Input \u001b[0;32mIn [10]\u001b[0m, in \u001b[0;36m<cell line: 1>\u001b[0;34m()\u001b[0m\n\u001b[1;32m      1\u001b[0m \u001b[38;5;28;01mwith\u001b[39;00m \u001b[38;5;28mopen\u001b[39m(\u001b[38;5;124m'\u001b[39m\u001b[38;5;124minit_small_synth_forage.pkl\u001b[39m\u001b[38;5;124m'\u001b[39m, \u001b[38;5;124m'\u001b[39m\u001b[38;5;124mwb\u001b[39m\u001b[38;5;124m'\u001b[39m) \u001b[38;5;28;01mas\u001b[39;00m f:\n\u001b[0;32m----> 2\u001b[0m     pickle\u001b[38;5;241m.\u001b[39mdump(\u001b[43mpatch_dist\u001b[49m, f)\n",
      "\u001b[0;31mNameError\u001b[0m: name 'patch_dist' is not defined"
     ]
    }
   ],
   "source": [
    "with open('init_small_synth_forage.pkl', 'wb') as f:\n",
    "    pickle.dump(patch_dist, f)"
   ]
  },
  {
   "cell_type": "code",
   "execution_count": null,
   "id": "fb05a9b0",
   "metadata": {},
   "outputs": [],
   "source": []
  }
 ],
 "metadata": {
  "kernelspec": {
   "display_name": "Python 3 (ipykernel)",
   "language": "python",
   "name": "python3"
  },
  "language_info": {
   "codemirror_mode": {
    "name": "ipython",
    "version": 3
   },
   "file_extension": ".py",
   "mimetype": "text/x-python",
   "name": "python",
   "nbconvert_exporter": "python",
   "pygments_lexer": "ipython3",
   "version": "3.9.12"
  }
 },
 "nbformat": 4,
 "nbformat_minor": 5
}
