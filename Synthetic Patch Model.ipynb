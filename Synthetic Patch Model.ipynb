{
 "cells": [
  {
   "cell_type": "code",
   "execution_count": 128,
   "id": "d11d3f45",
   "metadata": {},
   "outputs": [],
   "source": [
    "import numpy as np\n",
    "import random"
   ]
  },
  {
   "cell_type": "code",
   "execution_count": 129,
   "id": "f4c4af07",
   "metadata": {},
   "outputs": [],
   "source": [
    "patch_net = {0: {'Name': 'Roost', 'carrying_capacity': 1, 'init_resources': 0, 'resource_birth': 0,\n",
    "                 'patch_center': [0.5,0.5], 'bat_resource_conversion': 0, 'Res':np.array([0,0])},\n",
    "             1: {'Name': 'Residential', 'carrying_capacity': 1000, 'init_resources': 1000, 'resource_birth': 0.05,\n",
    "                 'patch_center': [1.5,0.5], 'bat_resource_conversion': 0.9, 'Res':np.array([0,1])},\n",
    "             2: {'Name': 'Residential 2', 'carrying_capacity': 1000, 'init_resources': 1000, 'resource_birth': 0.05,\n",
    "                 'patch_center': [2.5,0.5], 'bat_resource_conversion': 0.9, 'Res':np.array([0,1])},\n",
    "             3: {'Name': 'Orchard', 'carrying_capacity': 1000, 'init_resources': 1000, 'resource_birth': 0.01,\n",
    "                 'patch_center': [0.5,1.5], 'bat_resource_conversion': 0.9, 'Res':np.array([1,0])},\n",
    "             4: {'Name': 'Orchard 2', 'carrying_capacity': 1000, 'init_resources': 1000, 'resource_birth': 0.01,\n",
    "                 'patch_center': [1.5,1.5], 'bat_resource_conversion': 0.9, 'Res':np.array([1,0])},\n",
    "             5: {'Name': 'Dump', 'carrying_capacity': 500, 'init_resources': 100, 'resource_birth': 0.5,\n",
    "                 'patch_center': [2.5,1.5], 'bat_resource_conversion': 0.9, 'Res':np.array([0,1])}}"
   ]
  },
  {
   "cell_type": "code",
   "execution_count": 130,
   "id": "0bf41b70",
   "metadata": {},
   "outputs": [],
   "source": [
    "patch_types = ['Roost', 'Residential', 'Orchard', 'Water Body', 'Forest', 'Dump']\n",
    "patch_names = random.choices(patch_types,weights = [1/100, 20/100, 10/100,10/100,50/100, 9/100], k = 100)\n",
    "while 'Roost' not in patch_names:\n",
    "    patch_names = random.choices(patch_types,weights = [1/100, 20/100, 10/100,10/100,50/100, 9/100], k = 100)"
   ]
  },
  {
   "cell_type": "code",
   "execution_count": 131,
   "id": "27aea895",
   "metadata": {},
   "outputs": [],
   "source": [
    "#create patch network that is 10x10\n",
    "\n",
    "patch_net_10x10 = {}\n",
    "count = 0\n",
    "for i in range(10):\n",
    "    for j in range(10):\n",
    "        patch_net_10x10[count] ={}\n",
    "        patch_net_10x10[count]['Name']= patch_names[count]\n",
    "        patch_net_10x10[count]['patch_center']= [i+0.5,j+0.5]\n",
    "        if 'Roost' in patch_net_10x10[count]['Name']:\n",
    "            patch_net_10x10[count]['carrying_capacity']=1\n",
    "            patch_net_10x10[count]['init_resources']= 0\n",
    "            patch_net_10x10[count]['resource_birth'] = 0\n",
    "            patch_net_10x10[count]['Res']=np.array([0,0])\n",
    "        else:\n",
    "            K = np.random.choice(np.arange(1,100))\n",
    "            patch_net_10x10[count]['carrying_capacity']= K\n",
    "            patch_net_10x10[count]['init_resources']= np.random.choice(np.arange(K))\n",
    "            patch_net_10x10[count]['resource_birth'] = np.random.choice(np.arange(0,0.1,0.001))\n",
    "        if patch_net_10x10[count]['Name'] in ['Residential','Dump']:\n",
    "            patch_net_10x10[count]['Res']=np.array([0,1])\n",
    "        elif patch_net_10x10[count]['Name'] in ['Orchard', 'Water Body', 'Forest']:\n",
    "            patch_net_10x10[count]['Res']=np.array([1,0])\n",
    "        else:\n",
    "            patch_net_10x10[count]['Res']=np.array([0.5,0.5])\n",
    "        count = count+1\n",
    "            \n",
    "            "
   ]
  },
  {
   "cell_type": "code",
   "execution_count": 132,
   "id": "55afde42",
   "metadata": {},
   "outputs": [],
   "source": [
    "import pickle \n",
    "\n",
    "with open('test_big_patch_net.pkl', 'wb') as f:\n",
    "    pickle.dump(patch_net_10x10, f)\n",
    "        \n",
    "with open('test_big_patch_net.pkl', 'rb') as f:\n",
    "    loaded_dict = pickle.load(f)"
   ]
  },
  {
   "cell_type": "code",
   "execution_count": 133,
   "id": "2a4d6557",
   "metadata": {},
   "outputs": [],
   "source": [
    "patch_type_dist = np.zeros(len(patch_types))\n",
    "for p in patch_names:\n",
    "    if p=='Roost':\n",
    "        patch_type_dist[0]+=1\n",
    "    if p=='Residential':\n",
    "        patch_type_dist[1]+=1\n",
    "    if p=='Orchard':\n",
    "        patch_type_dist[2]+=1\n",
    "    if p=='Water Body':\n",
    "        patch_type_dist[3]+=1\n",
    "    if p=='Forest':\n",
    "        patch_type_dist[4]+=1\n",
    "    if p=='Dump':\n",
    "        patch_type_dist[5]+=1\n",
    "\n",
    "patch_probs = np.array([0.        , 0.53710742, 0.26605321, 0.06561312, 0.06561312,\n",
    "       0.06561313])\n",
    "\n",
    "patch_dist = np.zeros(len(patch_names))\n",
    "count = 0\n",
    "for p in patch_names:\n",
    "    if p=='Roost':\n",
    "        patch_dist[count]=0\n",
    "    if p=='Residential':\n",
    "        patch_dist[count]=patch_probs[1]/patch_type_dist[1]\n",
    "    if p=='Orchard':\n",
    "        patch_dist[count]=patch_probs[2]/patch_type_dist[2]\n",
    "    if p=='Water Body':\n",
    "        patch_dist[count]=patch_probs[3]/patch_type_dist[3]\n",
    "    if p=='Forest':\n",
    "        patch_dist[count]=patch_probs[4]/patch_type_dist[4]\n",
    "    if p=='Dump':\n",
    "        patch_dist[count]=patch_probs[5]/patch_type_dist[5]\n",
    "    count = count+1"
   ]
  },
  {
   "cell_type": "code",
   "execution_count": 134,
   "id": "6ad55c05",
   "metadata": {},
   "outputs": [],
   "source": [
    "with open('init_forage.pkl', 'wb') as f:\n",
    "    pickle.dump(patch_dist, f)"
   ]
  },
  {
   "cell_type": "code",
   "execution_count": null,
   "id": "fb05a9b0",
   "metadata": {},
   "outputs": [],
   "source": []
  }
 ],
 "metadata": {
  "kernelspec": {
   "display_name": "Python 3 (ipykernel)",
   "language": "python",
   "name": "python3"
  },
  "language_info": {
   "codemirror_mode": {
    "name": "ipython",
    "version": 3
   },
   "file_extension": ".py",
   "mimetype": "text/x-python",
   "name": "python",
   "nbconvert_exporter": "python",
   "pygments_lexer": "ipython3",
   "version": "3.9.12"
  }
 },
 "nbformat": 4,
 "nbformat_minor": 5
}
