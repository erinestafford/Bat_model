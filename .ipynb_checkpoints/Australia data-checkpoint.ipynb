{
 "cells": [
  {
   "cell_type": "code",
   "execution_count": 2,
   "id": "f596a999",
   "metadata": {},
   "outputs": [
    {
     "name": "stdout",
     "output_type": "stream",
     "text": [
      "           time          y          x  spatial_ref  level3\n",
      "0    2020-01-01 -3808500.0  1733500.0         3577     112\n",
      "1    2020-01-01 -3808500.0  1734500.0         3577     112\n",
      "2    2020-01-01 -3808500.0  1735500.0         3577     112\n",
      "3    2020-01-01 -3808500.0  1736500.0         3577     112\n",
      "4    2020-01-01 -3808500.0  1737500.0         3577     112\n",
      "..          ...        ...        ...          ...     ...\n",
      "478  2020-01-01 -3830500.0  1749500.0         3577     216\n",
      "479  2020-01-01 -3830500.0  1750500.0         3577     216\n",
      "480  2020-01-01 -3830500.0  1751500.0         3577     216\n",
      "481  2020-01-01 -3830500.0  1752500.0         3577     216\n",
      "482  2020-01-01 -3830500.0  1753500.0         3577     216\n",
      "\n",
      "[483 rows x 5 columns]\n"
     ]
    }
   ],
   "source": [
    "#https://app.sandbox.dea.ga.gov.au/user/erinestafford@gmail.com/lab/tree/DEA_products/DEA_Land_Cover.ipynb\n",
    "import pandas as pd\n",
    "#LEVEL3_COLOUR_SCHEME = {\n",
    "#    0: (255, 255, 255, 255, \"No Data\"),\n",
    "#    111: (172, 188, 45, 255, \"Cultivated terrestrial vegetation\"),\n",
    "#    112: (14, 121, 18, 255, \"Natural terrestrial vegetation\"),\n",
    "#    124: (30, 191, 121, 255, \"Natural aquatic vegetation\"),\n",
    "#    215: (218, 92, 105, 255, \"Artificial surface\"),\n",
    "#    216: (243, 171, 105, 255, \"Natural bare surface\"),\n",
    "#    220: (77, 159, 220, 255, \"Water\"),\n",
    "#}\n",
    "df = pd.read_csv ('classification_data.csv')\n",
    "print(df)"
   ]
  },
  {
   "cell_type": "code",
   "execution_count": 3,
   "id": "9cb7551c",
   "metadata": {},
   "outputs": [],
   "source": [
    "import matplotlib.pyplot as plt\n",
    "import numpy as np\n",
    "import random"
   ]
  },
  {
   "cell_type": "code",
   "execution_count": 4,
   "id": "41a3cabd",
   "metadata": {},
   "outputs": [
    {
     "name": "stdout",
     "output_type": "stream",
     "text": [
      "23\n",
      "21\n"
     ]
    }
   ],
   "source": [
    "print(len(df.y.unique()))\n",
    "print(len(df.x.unique()))\n",
    "classes = df.level3.values.reshape((23,21))"
   ]
  },
  {
   "cell_type": "code",
   "execution_count": 5,
   "id": "e9aa33f7",
   "metadata": {},
   "outputs": [
    {
     "data": {
      "text/plain": [
       "(23, 21)"
      ]
     },
     "execution_count": 5,
     "metadata": {},
     "output_type": "execute_result"
    }
   ],
   "source": [
    "np.shape(classes)"
   ]
  },
  {
   "cell_type": "code",
   "execution_count": 6,
   "id": "745f0ec5",
   "metadata": {},
   "outputs": [
    {
     "data": {
      "image/png": "[encoded data removed]",
      "text/plain": [
       "<Figure size 720x720 with 1 Axes>"
      ]
     },
     "metadata": {
      "needs_background": "light"
     },
     "output_type": "display_data"
    }
   ],
   "source": [
    "\n",
    "# define color map \n",
    "color_map = { 0: np.array([255, 255, 255]),\n",
    "             111: np.array([172, 188, 45]),\n",
    "             112: np.array([14, 121, 18]),\n",
    "             124: np.array([30, 191, 121]),\n",
    "             215: np.array([218, 92, 105]),\n",
    "             216: np.array([243, 171, 105]),\n",
    "             220: np.array([77, 159, 220]),\n",
    "}\n",
    "\n",
    "# make a 3d numpy array that has a color channel dimension \n",
    "data_3d = np.ndarray(shape=(classes.shape[0], classes.shape[1], 3), dtype=int)\n",
    "for i in range(classes.shape[0]):\n",
    "    for j in range(classes.shape[1]):\n",
    "        data_3d[i][j] = color_map[classes[i][j]]\n",
    "\n",
    "# display the plot \n",
    "fig, ax = plt.subplots(1,1, figsize=(10, 10))\n",
    "ax.imshow(data_3d)\n",
    "\n",
    "plt.show()\n",
    "\n"
   ]
  },
  {
   "cell_type": "code",
   "execution_count": 7,
   "id": "6a5479ca",
   "metadata": {},
   "outputs": [
    {
     "data": {
      "text/plain": [
       "112"
      ]
     },
     "execution_count": 7,
     "metadata": {},
     "output_type": "execute_result"
    }
   ],
   "source": [
    "xc = int(np.shape(classes)[0]/2)\n",
    "yc = int(np.shape(classes)[1]/2)\n",
    "classes[xc,yc]"
   ]
  },
  {
   "cell_type": "code",
   "execution_count": 8,
   "id": "7b49bb60",
   "metadata": {},
   "outputs": [
    {
     "name": "stdout",
     "output_type": "stream",
     "text": [
      "241\n"
     ]
    }
   ],
   "source": [
    "# make patch network based on classification \n",
    "#LEVEL3_COLOUR_SCHEME = {\n",
    "#    0: (255, 255, 255, 255, \"No Data\"),\n",
    "#    111: (172, 188, 45, 255, \"Cultivated terrestrial vegetation\"),\n",
    "#    112: (14, 121, 18, 255, \"Natural terrestrial vegetation\"),\n",
    "#    124: (30, 191, 121, 255, \"Natural aquatic vegetation\"),\n",
    "#    215: (218, 92, 105, 255, \"Artificial surface\"),\n",
    "#    216: (243, 171, 105, 255, \"Natural bare surface\"),\n",
    "#    220: (77, 159, 220, 255, \"Water\"),\n",
    "#}\n",
    "patch_net = {}\n",
    "patch_names = []\n",
    "count = 0\n",
    "for i in range(classes.shape[0]):\n",
    "    for j in range(classes.shape[1]):\n",
    "        patch_net[count] ={}\n",
    "        patch_net[count]['patch_center']= [i+0.5,j+0.5]\n",
    "        patch_net[count]['Res']=np.array([0.5,0.5])\n",
    "        if classes[i][j]== 111: #\"Cultivated terrestrial vegetation\"\n",
    "            K = np.random.choice(np.arange(2,10))\n",
    "            patch_net[count]['carrying_capacity']= K*350\n",
    "            patch_net[count]['init_resources']= np.random.choice(np.arange(350,K*350))\n",
    "            patch_net[count]['resource_birth'] = np.random.choice(np.arange(0.05,0.1,0.001))\n",
    "            patch_net[count]['Name'] = 'Orchard'\n",
    "        elif classes[i][j]== 112: #\"Natural terrestrial vegetation\"\n",
    "            K = np.random.choice(np.arange(2,20))\n",
    "            patch_net[count]['carrying_capacity']= K*350\n",
    "            patch_net[count]['init_resources']= np.random.choice(np.arange(350,K*350))\n",
    "            patch_net[count]['resource_birth'] = np.random.choice(np.arange(0,0.1,0.001))\n",
    "            patch_net[count]['Name'] = 'Forest'\n",
    "        elif classes[i][j]== 124: #\"Natural aquatic vegetation\"\n",
    "            K = np.random.choice(np.arange(2,30))\n",
    "            patch_net[count]['carrying_capacity']= K*350\n",
    "            patch_net[count]['init_resources']= np.random.choice(np.arange(350,K*350))\n",
    "            patch_net[count]['resource_birth'] = np.random.choice(np.arange(0,0.1,0.001))\n",
    "            patch_net[count]['Name'] ='Water Body'\n",
    "        elif classes[i][j]== 215: #\"Artificial surface\"\n",
    "            K = np.random.choice(np.arange(2,10))\n",
    "            patch_net[count]['carrying_capacity']= K*350\n",
    "            patch_net[count]['init_resources']= np.random.choice(np.arange(350,K*350))\n",
    "            patch_net[count]['resource_birth'] = np.random.choice(np.arange(0.1,0.5,0.001))\n",
    "            patch_net[count]['Name'] ='Residential'\n",
    "        elif classes[i][j]== 216: #\"Natural bare surface\"\n",
    "            K = np.random.choice(np.arange(2,10))\n",
    "            patch_net[count]['carrying_capacity']= K*350\n",
    "            patch_net[count]['init_resources']= np.random.choice(np.arange(350,K*350))\n",
    "            patch_net[count]['resource_birth'] = np.random.choice(np.arange(0.1,0.5,0.001))\n",
    "            patch_net[count]['Name'] ='Dump'\n",
    "        elif classes[i][j]== 220: #\"Water\"\n",
    "            K = np.random.choice(np.arange(2,30))\n",
    "            patch_net[count]['carrying_capacity']= K*350\n",
    "            patch_net[count]['init_resources']= np.random.choice(np.arange(350,K*350))\n",
    "            patch_net[count]['resource_birth'] = np.random.choice(np.arange(0,0.1,0.001))\n",
    "            patch_net[count]['Name'] ='Water Body'\n",
    "        else: #No Data\n",
    "            patch_net[count]['carrying_capacity']=1\n",
    "            patch_net[count]['init_resources']= 0\n",
    "            patch_net[count]['resource_birth'] = 0\n",
    "            patch_net[count]['Res']=np.array([0,0])\n",
    "            \n",
    "        if i == xc and j ==yc:\n",
    "            patch_net[count]['Name'] ='Roost'\n",
    "            print(count)\n",
    "        patch_names.append(patch_net[count]['Name'])\n",
    "        count = count + 1"
   ]
  },
  {
   "cell_type": "code",
   "execution_count": 9,
   "id": "56143936",
   "metadata": {},
   "outputs": [
    {
     "data": {
      "text/plain": [
       "7"
      ]
     },
     "execution_count": 9,
     "metadata": {},
     "output_type": "execute_result"
    }
   ],
   "source": [
    "K"
   ]
  },
  {
   "cell_type": "code",
   "execution_count": 10,
   "id": "bdc2746e",
   "metadata": {},
   "outputs": [],
   "source": [
    "import pickle \n",
    "\n",
    "with open('test_big_patch_net.pkl', 'wb') as f:\n",
    "    pickle.dump(patch_net, f)\n",
    "        \n",
    "with open('test_big_patch_net.pkl', 'rb') as f:\n",
    "    loaded_dict = pickle.load(f)"
   ]
  },
  {
   "cell_type": "code",
   "execution_count": 11,
   "id": "53746d2f",
   "metadata": {},
   "outputs": [],
   "source": [
    "patch_types = ['Roost', 'Residential', 'Orchard', 'Water Body', 'Forest', 'Dump']\n",
    "patch_type_dist = np.zeros(len(patch_types)-1)\n",
    "for p in patch_names:\n",
    "    if p=='Residential':\n",
    "        patch_type_dist[0]+=1\n",
    "    if p=='Orchard':\n",
    "        patch_type_dist[1]+=1\n",
    "    if p=='Water Body':\n",
    "        patch_type_dist[2]+=1\n",
    "    if p=='Forest' or p=='Roost': #because here roost is in a forest patch, but this may change for other populations\n",
    "        patch_type_dist[3]+=1\n",
    "    if p=='Dump':\n",
    "        patch_type_dist[4]+=1\n",
    "\n",
    "patch_probs = np.array([0.53710742, 0.26605321, 0.06561312, 0.06561312,\n",
    "       0.06561313])\n",
    "\n",
    "patch_dist = np.zeros(len(patch_names))\n",
    "count = 0\n",
    "for p in patch_names:\n",
    "    if p=='Residential':\n",
    "        patch_dist[count]=patch_probs[0]/patch_type_dist[0]\n",
    "    if p=='Orchard':\n",
    "        patch_dist[count]=patch_probs[1]/patch_type_dist[1]\n",
    "    if p=='Water Body':\n",
    "        patch_dist[count]=patch_probs[2]/patch_type_dist[2]\n",
    "    if p=='Forest' or p=='Roost':\n",
    "        patch_dist[count]=patch_probs[3]/patch_type_dist[3]\n",
    "    if p=='Dump':\n",
    "        patch_dist[count]=patch_probs[4]/patch_type_dist[4]\n",
    "    count = count+1"
   ]
  },
  {
   "cell_type": "code",
   "execution_count": 12,
   "id": "510c9f4e",
   "metadata": {},
   "outputs": [],
   "source": [
    "with open('init_forage.pkl', 'wb') as f:\n",
    "    pickle.dump(patch_dist, f)"
   ]
  },
  {
   "cell_type": "code",
   "execution_count": null,
   "id": "691d144f",
   "metadata": {},
   "outputs": [],
   "source": []
  }
 ],
 "metadata": {
  "kernelspec": {
   "display_name": "Python 3 (ipykernel)",
   "language": "python",
   "name": "python3"
  },
  "language_info": {
   "codemirror_mode": {
    "name": "ipython",
    "version": 3
   },
   "file_extension": ".py",
   "mimetype": "text/x-python",
   "name": "python",
   "nbconvert_exporter": "python",
   "pygments_lexer": "ipython3",
   "version": "3.9.12"
  }
 },
 "nbformat": 4,
 "nbformat_minor": 5
}
