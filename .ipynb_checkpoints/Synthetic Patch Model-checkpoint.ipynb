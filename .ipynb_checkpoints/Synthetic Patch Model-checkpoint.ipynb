{
 "cells": [
  {
   "cell_type": "code",
   "execution_count": 1,
   "id": "d11d3f45",
   "metadata": {},
   "outputs": [],
   "source": [
    "import numpy as np\n",
    "import random"
   ]
  },
  {
   "cell_type": "code",
   "execution_count": 2,
   "id": "f4c4af07",
   "metadata": {},
   "outputs": [],
   "source": [
    "patch_net = {0: {'Name': 'Roost', 'carrying_capacity': 1, 'init_resources': 0, 'resource_birth': 0,\n",
    "                 'patch_center': [0.5,0.5], 'bat_resource_conversion': 0, 'Res':np.array([0,0])},\n",
    "             1: {'Name': 'Residential', 'carrying_capacity': 1000, 'init_resources': 1000, 'resource_birth': 0.05,\n",
    "                 'patch_center': [1.5,0.5], 'bat_resource_conversion': 0.9, 'Res':np.array([0,1])},\n",
    "             2: {'Name': 'Residential 2', 'carrying_capacity': 1000, 'init_resources': 1000, 'resource_birth': 0.05,\n",
    "                 'patch_center': [2.5,0.5], 'bat_resource_conversion': 0.9, 'Res':np.array([0,1])},\n",
    "             3: {'Name': 'Orchard', 'carrying_capacity': 1000, 'init_resources': 1000, 'resource_birth': 0.01,\n",
    "                 'patch_center': [0.5,1.5], 'bat_resource_conversion': 0.9, 'Res':np.array([1,0])},\n",
    "             4: {'Name': 'Orchard 2', 'carrying_capacity': 1000, 'init_resources': 1000, 'resource_birth': 0.01,\n",
    "                 'patch_center': [1.5,1.5], 'bat_resource_conversion': 0.9, 'Res':np.array([1,0])},\n",
    "             5: {'Name': 'Dump', 'carrying_capacity': 500, 'init_resources': 100, 'resource_birth': 0.5,\n",
    "                 'patch_center': [2.5,1.5], 'bat_resource_conversion': 0.9, 'Res':np.array([0,1])}}"
   ]
  },
  {
   "cell_type": "code",
   "execution_count": 12,
   "id": "0bf41b70",
   "metadata": {},
   "outputs": [],
   "source": [
    "patch_types = ['Roost', 'Residential', 'Orchard', 'Water Body', 'Forest', 'Dump']\n",
    "patch_names = random.choices(patch_types,weights = [1/100, 20/100, 10/100,10/100,50/100, 9/100], k = 100)\n",
    "while 'Roost' not in patch_names:\n",
    "    patch_names = random.choices(patch_types,weights = [1/100, 20/100, 10/100,10/100,50/100, 9/100], k = 100)"
   ]
  },
  {
   "cell_type": "code",
   "execution_count": 13,
   "id": "27aea895",
   "metadata": {},
   "outputs": [],
   "source": [
    "#create patch network that is 10x10\n",
    "\n",
    "patch_net_10x10 = {}\n",
    "resources = np.zeros((10,10))\n",
    "count = 0\n",
    "K = np.random.choice(np.arange(1,500))\n",
    "rb = 0#np.random.choice(np.arange(0,0.1,0.001))\n",
    "\n",
    "for i in range(10):\n",
    "    for j in range(10):\n",
    "        patch_net_10x10[count] ={}\n",
    "        patch_net_10x10[count]['Name']= patch_names[count]\n",
    "        patch_net_10x10[count]['patch_center']= [i+0.5,j+0.5]\n",
    "        patch_net_10x10[count]['carrying_capacity']= K\n",
    "        patch_net_10x10[count]['init_resources']= np.random.choice(np.arange(1,K+1))\n",
    "        resources[i,j]=patch_net_10x10[count]['init_resources']\n",
    "        patch_net_10x10[count]['resource_birth'] = rb\n",
    "        if patch_net_10x10[count]['Name'] in ['Residential','Dump']:\n",
    "            patch_net_10x10[count]['Res']=np.array([0,1])\n",
    "        elif patch_net_10x10[count]['Name'] in ['Orchard', 'Water Body', 'Forest']:\n",
    "            patch_net_10x10[count]['Res']=np.array([1,0])\n",
    "        else:\n",
    "            patch_net_10x10[count]['Res']=np.array([0.5,0.5])\n",
    "        count = count+1\n",
    "            \n",
    "            "
   ]
  },
  {
   "cell_type": "code",
   "execution_count": 14,
   "id": "55afde42",
   "metadata": {},
   "outputs": [],
   "source": [
    "import pickle \n",
    "\n",
    "with open('test_small_synth_patch_net.pkl', 'wb') as f:\n",
    "    pickle.dump(patch_net_10x10, f)\n"
   ]
  },
  {
   "cell_type": "code",
   "execution_count": 15,
   "id": "db6dff55",
   "metadata": {},
   "outputs": [
    {
     "data": {
      "text/plain": [
       "0"
      ]
     },
     "execution_count": 15,
     "metadata": {},
     "output_type": "execute_result"
    }
   ],
   "source": [
    "rb"
   ]
  },
  {
   "cell_type": "code",
   "execution_count": 16,
   "id": "bca6c894",
   "metadata": {},
   "outputs": [
    {
     "data": {
      "image/png": "[encoded data removed]",
      "text/plain": [
       "<Figure size 432x288 with 2 Axes>"
      ]
     },
     "metadata": {
      "needs_background": "light"
     },
     "output_type": "display_data"
    }
   ],
   "source": [
    "import matplotlib.pyplot as plt\n",
    "data=np.array(resources)\n",
    "plt.imshow(data,cmap='magma')\n",
    "plt.colorbar()\n",
    "plt.show()"
   ]
  },
  {
   "cell_type": "code",
   "execution_count": 17,
   "id": "a0dc4bfe",
   "metadata": {},
   "outputs": [
    {
     "name": "stdout",
     "output_type": "stream",
     "text": [
      "97.45\n",
      "185.0\n"
     ]
    }
   ],
   "source": [
    "print(np.mean(resources))\n",
    "print(np.max(resources))"
   ]
  },
  {
   "cell_type": "code",
   "execution_count": 18,
   "id": "2a4d6557",
   "metadata": {},
   "outputs": [],
   "source": [
    "patch_type_dist = np.zeros(len(patch_types))\n",
    "for p in patch_names:\n",
    "    if p=='Roost':\n",
    "        patch_type_dist[0]+=1\n",
    "    if p=='Residential':\n",
    "        patch_type_dist[1]+=1\n",
    "    if p=='Orchard':\n",
    "        patch_type_dist[2]+=1\n",
    "    if p=='Water Body':\n",
    "        patch_type_dist[3]+=1\n",
    "    if p=='Forest':\n",
    "        patch_type_dist[4]+=1\n",
    "    if p=='Dump':\n",
    "        patch_type_dist[5]+=1\n",
    "\n",
    "patch_probs = np.array([0.        , 0.53710742, 0.26605321, 0.06561312, 0.06561312,\n",
    "       0.06561313])\n",
    "\n",
    "patch_dist = np.zeros(len(patch_names))\n",
    "count = 0\n",
    "for p in patch_names:\n",
    "    if p=='Roost':\n",
    "        patch_dist[count]=0\n",
    "    if p=='Residential':\n",
    "        patch_dist[count]=patch_probs[1]/patch_type_dist[1]\n",
    "    if p=='Orchard':\n",
    "        patch_dist[count]=patch_probs[2]/patch_type_dist[2]\n",
    "    if p=='Water Body':\n",
    "        patch_dist[count]=patch_probs[3]/patch_type_dist[3]\n",
    "    if p=='Forest':\n",
    "        patch_dist[count]=patch_probs[4]/patch_type_dist[4]\n",
    "    if p=='Dump':\n",
    "        patch_dist[count]=patch_probs[5]/patch_type_dist[5]\n",
    "    count = count+1"
   ]
  },
  {
   "cell_type": "code",
   "execution_count": 19,
   "id": "6ad55c05",
   "metadata": {},
   "outputs": [],
   "source": [
    "with open('init_small_synth_forage.pkl', 'wb') as f:\n",
    "    pickle.dump(patch_dist, f)"
   ]
  },
  {
   "cell_type": "markdown",
   "id": "58c3c8a5",
   "metadata": {},
   "source": [
    "# Creating synthetic landscapes for testing mitigation strategies\n",
    " - equal parts\n",
    " - mostly forrest\n",
    " - mostly orchard\n",
    " - mostly residential"
   ]
  },
  {
   "cell_type": "code",
   "execution_count": 86,
   "id": "2f27c42c",
   "metadata": {},
   "outputs": [],
   "source": [
    "resources_map = { 0: ['Orchard', 2000,5000,0.05,0.1],\n",
    "                  1: ['Forest', 1000,3000,0.0,0.1],\n",
    "                  2: ['Residential',500,1000,0.1,0.5],\n",
    "                  3: ['Dump', 200,1000,0.1,0.5],\n",
    "                  4: ['Water Body',100,3000,0.0,0.1]\n",
    "                }\n",
    "\n",
    "color_map = { 0: np.array([255,255,100]),\n",
    "              1: np.array([30,114,36]),\n",
    "              2: np.array([195,20,0]),\n",
    "              3: np.array([0,0,0]),\n",
    "              4: np.array([0,45,195])\n",
    "            }\n",
    "\n",
    "def get_neighbours(m,x,y):\n",
    "    rows, cols = range(len(m)),range(len(m[0]))\n",
    "    offsets = [(-1,-1),(-1,0),(-1,1),(0,-1),(0,1),(1,-1),(1,0),(1,1)]\n",
    "    result = []\n",
    "    for dy,dx in offsets:\n",
    "        ny, nx = y-1+dy, x-1+dx\n",
    "        if ny in rows and nx in cols:\n",
    "            result.append(resources_map[m[ny,nx]][0])\n",
    "    return np.array(result)"
   ]
  },
  {
   "cell_type": "code",
   "execution_count": 123,
   "id": "88d141a2",
   "metadata": {},
   "outputs": [
    {
     "data": {
      "image/png": "[encoded data removed]",
      "text/plain": [
       "<Figure size 432x288 with 1 Axes>"
      ]
     },
     "metadata": {
      "needs_background": "light"
     },
     "output_type": "display_data"
    },
    {
     "name": "stdout",
     "output_type": "stream",
     "text": [
      "3.0\n"
     ]
    },
    {
     "data": {
      "image/png": "[encoded data removed]",
      "text/plain": [
       "<Figure size 432x288 with 2 Axes>"
      ]
     },
     "metadata": {
      "needs_background": "light"
     },
     "output_type": "display_data"
    },
    {
     "data": {
      "image/png": "[encoded data removed]",
      "text/plain": [
       "<Figure size 432x288 with 2 Axes>"
      ]
     },
     "metadata": {
      "needs_background": "light"
     },
     "output_type": "display_data"
    },
    {
     "data": {
      "image/png": "[encoded data removed]",
      "text/plain": [
       "<Figure size 432x288 with 2 Axes>"
      ]
     },
     "metadata": {
      "needs_background": "light"
     },
     "output_type": "display_data"
    }
   ],
   "source": [
    "# Random type 30x30 grid\n",
    "patch_net = {}\n",
    "patch_names = []\n",
    "data_3d = np.ndarray(shape=(30,30, 3), dtype=int)\n",
    "types = np.zeros((30,30))\n",
    "count = 0\n",
    "for i in range(30):\n",
    "    for j in range(30):\n",
    "        patch_net[count] = {}\n",
    "        patch_net[count]['patch_center']= [i+0.5,j+0.5]\n",
    "        p_type = np.random.choice(range(len(patch_types)-1))\n",
    "        data_3d[i][j]= color_map[p_type]\n",
    "        types[i][j] = p_type\n",
    "        p_ids[i][j] = count\n",
    "        xs[i] = i+0.5\n",
    "        ys[j] = j+0.5\n",
    "        attr = resources_map[p_type]\n",
    "        K = np.random.choice(np.arange(attr[1],attr[2]))\n",
    "        patch_net[count]['max_cc']= K\n",
    "        patch_net[count]['p_type'] = p_type\n",
    "        patch_net[count]['init_resources']= np.random.choice(np.arange(0,K))\n",
    "        patch_net[count]['resource_birth'] = np.random.choice(np.arange(attr[3],attr[4],0.001))\n",
    "        patch_net[count]['Name'] = attr[0]\n",
    "        patch_names.append(patch_net[count]['Name'])\n",
    "        count = count + 1\n",
    "\n",
    "# display the plot \n",
    "fig, ax = plt.subplots()\n",
    "ax.imshow(data_3d)\n",
    "plt.show()\n",
    "\n",
    "\n",
    "neighbors_dict = {}\n",
    "is_edge = []\n",
    "near_or_is_water = []\n",
    "count = 0\n",
    "for i in range(30):\n",
    "    for j in range(30):\n",
    "        neighbors_dict[count] = get_neighbours(types.T,i+1,j+1)\n",
    "        is_edge.append(len(np.where(neighbors_dict[count]=='Forest')[0])>0 and len(np.where(neighbors_dict[count]=='Forest')[0])<len(neighbors_dict[count]))\n",
    "        near_or_is_water.append('Water Body' in neighbors_dict[count] or resources_map[types[i,j]][0]=='Water Body')\n",
    "        count = count+1\n",
    "\n",
    "count = 0\n",
    "for i in range(30):\n",
    "    for j in range(30):\n",
    "        patch_net[count]['forrest_edge'] = is_edge[count]\n",
    "        patch_net[count]['water_prox'] = near_or_is_water[count]\n",
    "        count = count+1\n",
    "        \n",
    "fig, ax = plt.subplots()\n",
    "plt.imshow(np.array(is_edge).reshape(types.shape))\n",
    "plt.colorbar()\n",
    "plt.show()\n",
    "fig, ax = plt.subplots()\n",
    "plt.imshow(np.array(near_or_is_water).reshape(types.shape))\n",
    "plt.colorbar()\n",
    "plt.show()\n",
    "\n",
    "classes_multi =np.zeros(types.shape)\n",
    "classes_multi=types\n",
    "count = 0\n",
    "t = np.arange(365*24)\n",
    "for i in range(classes_multi.shape[0]):\n",
    "    for j in range(classes_multi.shape[1]):\n",
    "        k1 = patch_net[count]['max_cc']\n",
    "        patch_net[count]['carrying_capacity_yr'] = k1*np.cos(2*np.pi/(24*365)*t)+k1\n",
    "        if i==10 and j==10:\n",
    "            patch_net[count]['Name']='Roost'\n",
    "        if i==5 and j==20:\n",
    "            patch_net[count]['Name']='Roost'\n",
    "        if i==17 and j==20:\n",
    "            patch_net[count]['Name']='Roost'\n",
    "        count=count+1\n",
    "\n",
    "        \n",
    "resources = np.asarray([patch_net[i]['init_resources'] for i in range(count)])\n",
    "\n",
    "data=np.array(resources.reshape(types.shape))\n",
    "plt.imshow(data,cmap='magma')\n",
    "plt.colorbar()\n",
    "plt.show()\n"
   ]
  },
  {
   "cell_type": "code",
   "execution_count": 124,
   "id": "a70e76b4",
   "metadata": {},
   "outputs": [
    {
     "data": {
      "image/png": "[encoded data removed]",
      "text/plain": [
       "<Figure size 432x288 with 1 Axes>"
      ]
     },
     "metadata": {
      "needs_background": "light"
     },
     "output_type": "display_data"
    },
    {
     "name": "stdout",
     "output_type": "stream",
     "text": [
      "2.0\n"
     ]
    },
    {
     "data": {
      "image/png": "[encoded data removed]",
      "text/plain": [
       "<Figure size 432x288 with 2 Axes>"
      ]
     },
     "metadata": {
      "needs_background": "light"
     },
     "output_type": "display_data"
    },
    {
     "data": {
      "image/png": "[encoded data removed]",
      "text/plain": [
       "<Figure size 432x288 with 2 Axes>"
      ]
     },
     "metadata": {
      "needs_background": "light"
     },
     "output_type": "display_data"
    },
    {
     "data": {
      "image/png": "[encoded data removed]",
      "text/plain": [
       "<Figure size 432x288 with 2 Axes>"
      ]
     },
     "metadata": {
      "needs_background": "light"
     },
     "output_type": "display_data"
    }
   ],
   "source": [
    "def get_neighbours(m,x,y):\n",
    "    rows, cols = range(len(m)),range(len(m[0]))\n",
    "    offsets = [(-1,-1),(-1,0),(-1,1),(0,-1),(0,1),(1,-1),(1,0),(1,1)]\n",
    "    result = []\n",
    "    for dy,dx in offsets:\n",
    "        ny, nx = y-1+dy, x-1+dx\n",
    "        if ny in rows and nx in cols:\n",
    "            result.append(resources_map[m[ny,nx]][0])\n",
    "    if x==5 and y == 25:\n",
    "        print(m[x,y])\n",
    "    return np.array(result)\n",
    "\n",
    "# equal parts, but not random\n",
    "patch_net = {}\n",
    "patch_names = []\n",
    "data_3d = np.ndarray(shape=(30,30, 3), dtype=int)\n",
    "types = np.zeros((30,30))\n",
    "count = 0\n",
    "for i in range(30):\n",
    "    for j in range(30):\n",
    "        patch_net[count] = {}\n",
    "        patch_net[count]['patch_center']= [i+0.5,j+0.5]\n",
    "        if i<=15 and j <= 15:\n",
    "            p_type = 1\n",
    "        elif i>15 and j <= 15:\n",
    "            p_type = 2\n",
    "        elif i<=15 and j > 15:\n",
    "            p_type = 4\n",
    "        else:\n",
    "            p_type= 0\n",
    "        data_3d[i][j]= color_map[p_type]\n",
    "        types[i][j] = p_type\n",
    "        p_ids[i][j] = count\n",
    "        xs[i] = i+0.5\n",
    "        ys[j] = j+0.5\n",
    "        attr = resources_map[p_type]\n",
    "        K = np.random.choice(np.arange(attr[1],attr[2]))\n",
    "        patch_net[count]['max_cc']= K\n",
    "        patch_net[count]['p_type'] = p_type\n",
    "        patch_net[count]['init_resources']= np.random.choice(np.arange(0,K))\n",
    "        patch_net[count]['resource_birth'] = np.random.choice(np.arange(attr[3],attr[4],0.001))\n",
    "        patch_net[count]['Name'] = attr[0]\n",
    "        patch_names.append(patch_net[count]['Name'])\n",
    "        count = count + 1\n",
    "\n",
    "# display the plot \n",
    "fig, ax = plt.subplots()\n",
    "ax.imshow(data_3d)\n",
    "plt.show()\n",
    "\n",
    "\n",
    "neighbors_dict = {}\n",
    "is_edge = []\n",
    "near_or_is_water = []\n",
    "count = 0\n",
    "for i in range(30):\n",
    "    for j in range(30):\n",
    "        neighbors_dict[count] = get_neighbours(types.T,i+1,j+1)\n",
    "        is_edge.append(len(np.where(neighbors_dict[count]=='Forest')[0])>0 and len(np.where(neighbors_dict[count]=='Forest')[0])<len(neighbors_dict[count]))\n",
    "        near_or_is_water.append('Water Body' in neighbors_dict[count] or resources_map[types[i,j]][0]=='Water Body')\n",
    "        count = count+1\n",
    "\n",
    "count = 0\n",
    "for i in range(30):\n",
    "    for j in range(30):\n",
    "        patch_net[count]['forrest_edge'] = is_edge[count]\n",
    "        patch_net[count]['water_prox'] = near_or_is_water[count]\n",
    "        count = count+1\n",
    "        \n",
    "fig, ax = plt.subplots()\n",
    "plt.imshow(np.array(is_edge).reshape(types.shape))\n",
    "plt.colorbar()\n",
    "plt.show()\n",
    "fig, ax = plt.subplots()\n",
    "plt.imshow(np.array(near_or_is_water).reshape(types.shape))\n",
    "plt.colorbar()\n",
    "plt.show()\n",
    "\n",
    "classes_multi =np.zeros(types.shape)\n",
    "classes_multi=types\n",
    "count = 0\n",
    "t = np.arange(365*24)\n",
    "for i in range(classes_multi.shape[0]):\n",
    "    for j in range(classes_multi.shape[1]):\n",
    "        k1 = patch_net[count]['max_cc']\n",
    "        patch_net[count]['carrying_capacity_yr'] = k1*np.cos(2*np.pi/(24*365)*t)+k1\n",
    "        if i==10 and j==10:\n",
    "            patch_net[count]['Name']='Roost'\n",
    "        if i==5 and j==20:\n",
    "            patch_net[count]['Name']='Roost'\n",
    "        if i==17 and j==20:\n",
    "            patch_net[count]['Name']='Roost'\n",
    "        count=count+1\n",
    "\n",
    "        \n",
    "resources = np.asarray([patch_net[i]['init_resources'] for i in range(count)])\n",
    "\n",
    "data=np.array(resources.reshape(types.shape))\n",
    "plt.imshow(data,cmap='magma')\n",
    "plt.colorbar()\n",
    "plt.show()"
   ]
  },
  {
   "cell_type": "code",
   "execution_count": 125,
   "id": "81bee9f2",
   "metadata": {},
   "outputs": [
    {
     "data": {
      "image/png": "[encoded data removed]",
      "text/plain": [
       "<Figure size 432x288 with 1 Axes>"
      ]
     },
     "metadata": {
      "needs_background": "light"
     },
     "output_type": "display_data"
    },
    {
     "name": "stdout",
     "output_type": "stream",
     "text": [
      "2.0\n"
     ]
    },
    {
     "data": {
      "image/png": "[encoded data removed]",
      "text/plain": [
       "<Figure size 432x288 with 2 Axes>"
      ]
     },
     "metadata": {
      "needs_background": "light"
     },
     "output_type": "display_data"
    },
    {
     "data": {
      "image/png": "[encoded data removed]",
      "text/plain": [
       "<Figure size 432x288 with 2 Axes>"
      ]
     },
     "metadata": {
      "needs_background": "light"
     },
     "output_type": "display_data"
    },
    {
     "data": {
      "image/png": "[encoded data removed]",
      "text/plain": [
       "<Figure size 432x288 with 2 Axes>"
      ]
     },
     "metadata": {
      "needs_background": "light"
     },
     "output_type": "display_data"
    }
   ],
   "source": [
    "# mostly forest \n",
    "patch_net = {}\n",
    "patch_names = []\n",
    "data_3d = np.ndarray(shape=(30,30, 3), dtype=int)\n",
    "types = np.zeros((30,30))\n",
    "count = 0\n",
    "for i in range(30):\n",
    "    for j in range(30):\n",
    "        patch_net[count] = {}\n",
    "        patch_net[count]['patch_center']= [i+0.5,j+0.5]\n",
    "        if i<=21 and j <= 21:\n",
    "            p_type = 1\n",
    "        elif i>21 and j <= 15:\n",
    "            p_type = 2\n",
    "        elif i<=21 and j > 15:\n",
    "            p_type = 4\n",
    "        else:\n",
    "            p_type= 0\n",
    "        data_3d[i][j]= color_map[p_type]\n",
    "        types[i][j] = p_type\n",
    "        p_ids[i][j] = count\n",
    "        xs[i] = i+0.5\n",
    "        ys[j] = j+0.5\n",
    "        attr = resources_map[p_type]\n",
    "        K = np.random.choice(np.arange(attr[1],attr[2]))\n",
    "        patch_net[count]['max_cc']= K\n",
    "        patch_net[count]['p_type'] = p_type\n",
    "        patch_net[count]['init_resources']= np.random.choice(np.arange(0,K))\n",
    "        patch_net[count]['resource_birth'] = np.random.choice(np.arange(attr[3],attr[4],0.001))\n",
    "        patch_net[count]['Name'] = attr[0]\n",
    "        patch_names.append(patch_net[count]['Name'])\n",
    "        count = count + 1\n",
    "\n",
    "# display the plot \n",
    "fig, ax = plt.subplots()\n",
    "ax.imshow(data_3d)\n",
    "plt.show()\n",
    "\n",
    "\n",
    "neighbors_dict = {}\n",
    "is_edge = []\n",
    "near_or_is_water = []\n",
    "count = 0\n",
    "for i in range(30):\n",
    "    for j in range(30):\n",
    "        neighbors_dict[count] = get_neighbours(types.T,i+1,j+1)\n",
    "        is_edge.append(len(np.where(neighbors_dict[count]=='Forest')[0])>0 and len(np.where(neighbors_dict[count]=='Forest')[0])<len(neighbors_dict[count]))\n",
    "        near_or_is_water.append('Water Body' in neighbors_dict[count] or resources_map[types[i,j]][0]=='Water Body')\n",
    "        count = count+1\n",
    "\n",
    "count = 0\n",
    "for i in range(30):\n",
    "    for j in range(30):\n",
    "        patch_net[count]['forrest_edge'] = is_edge[count]\n",
    "        patch_net[count]['water_prox'] = near_or_is_water[count]\n",
    "        count = count+1\n",
    "        \n",
    "fig, ax = plt.subplots()\n",
    "plt.imshow(np.array(is_edge).reshape(types.shape))\n",
    "plt.colorbar()\n",
    "plt.show()\n",
    "fig, ax = plt.subplots()\n",
    "plt.imshow(np.array(near_or_is_water).reshape(types.shape))\n",
    "plt.colorbar()\n",
    "plt.show()\n",
    "\n",
    "classes_multi =np.zeros(types.shape)\n",
    "classes_multi=types\n",
    "count = 0\n",
    "t = np.arange(365*24)\n",
    "for i in range(classes_multi.shape[0]):\n",
    "    for j in range(classes_multi.shape[1]):\n",
    "        k1 = patch_net[count]['max_cc']\n",
    "        patch_net[count]['carrying_capacity_yr'] = k1*np.cos(2*np.pi/(24*365)*t)+k1\n",
    "        if i==10 and j==10:\n",
    "            patch_net[count]['Name']='Roost'\n",
    "        if i==5 and j==20:\n",
    "            patch_net[count]['Name']='Roost'\n",
    "        if i==17 and j==20:\n",
    "            patch_net[count]['Name']='Roost'\n",
    "        count=count+1\n",
    "\n",
    "        \n",
    "resources = np.asarray([patch_net[i]['init_resources'] for i in range(count)])\n",
    "\n",
    "data=np.array(resources.reshape(types.shape))\n",
    "plt.imshow(data,cmap='magma')\n",
    "plt.colorbar()\n",
    "plt.show()"
   ]
  },
  {
   "cell_type": "code",
   "execution_count": 126,
   "id": "f145c0bd",
   "metadata": {},
   "outputs": [
    {
     "data": {
      "image/png": "[encoded data removed]",
      "text/plain": [
       "<Figure size 432x288 with 1 Axes>"
      ]
     },
     "metadata": {
      "needs_background": "light"
     },
     "output_type": "display_data"
    },
    {
     "name": "stdout",
     "output_type": "stream",
     "text": [
      "2.0\n"
     ]
    },
    {
     "data": {
      "image/png": "[encoded data removed]",
      "text/plain": [
       "<Figure size 432x288 with 2 Axes>"
      ]
     },
     "metadata": {
      "needs_background": "light"
     },
     "output_type": "display_data"
    },
    {
     "data": {
      "image/png": "[encoded data removed]",
      "text/plain": [
       "<Figure size 432x288 with 2 Axes>"
      ]
     },
     "metadata": {
      "needs_background": "light"
     },
     "output_type": "display_data"
    },
    {
     "data": {
      "image/png": "[encoded data removed]",
      "text/plain": [
       "<Figure size 432x288 with 2 Axes>"
      ]
     },
     "metadata": {
      "needs_background": "light"
     },
     "output_type": "display_data"
    }
   ],
   "source": [
    "# mostly orchard\n",
    "patch_net = {}\n",
    "patch_names = []\n",
    "data_3d = np.ndarray(shape=(30,30, 3), dtype=int)\n",
    "types = np.zeros((30,30))\n",
    "count = 0\n",
    "for i in range(30):\n",
    "    for j in range(30):\n",
    "        patch_net[count] = {}\n",
    "        patch_net[count]['patch_center']= [i+0.5,j+0.5]\n",
    "        if i<=21 and j <= 21:\n",
    "            p_type = 0\n",
    "        elif i>21 and j <= 15:\n",
    "            p_type = 2\n",
    "        elif i<=21 and j > 15:\n",
    "            p_type = 4\n",
    "        else:\n",
    "            p_type= 1\n",
    "        data_3d[i][j]= color_map[p_type]\n",
    "        types[i][j] = p_type\n",
    "        p_ids[i][j] = count\n",
    "        xs[i] = i+0.5\n",
    "        ys[j] = j+0.5\n",
    "        attr = resources_map[p_type]\n",
    "        K = np.random.choice(np.arange(attr[1],attr[2]))\n",
    "        patch_net[count]['max_cc']= K\n",
    "        patch_net[count]['p_type'] = p_type\n",
    "        patch_net[count]['init_resources']= np.random.choice(np.arange(0,K))\n",
    "        patch_net[count]['resource_birth'] = np.random.choice(np.arange(attr[3],attr[4],0.001))\n",
    "        patch_net[count]['Name'] = attr[0]\n",
    "        patch_names.append(patch_net[count]['Name'])\n",
    "        count = count + 1\n",
    "\n",
    "# display the plot \n",
    "fig, ax = plt.subplots()\n",
    "ax.imshow(data_3d)\n",
    "plt.show()\n",
    "\n",
    "\n",
    "neighbors_dict = {}\n",
    "is_edge = []\n",
    "near_or_is_water = []\n",
    "count = 0\n",
    "for i in range(30):\n",
    "    for j in range(30):\n",
    "        neighbors_dict[count] = get_neighbours(types.T,i+1,j+1)\n",
    "        is_edge.append(len(np.where(neighbors_dict[count]=='Forest')[0])>0 and len(np.where(neighbors_dict[count]=='Forest')[0])<len(neighbors_dict[count]))\n",
    "        near_or_is_water.append('Water Body' in neighbors_dict[count] or resources_map[types[i,j]][0]=='Water Body')\n",
    "        count = count+1\n",
    "\n",
    "count = 0\n",
    "for i in range(30):\n",
    "    for j in range(30):\n",
    "        patch_net[count]['forrest_edge'] = is_edge[count]\n",
    "        patch_net[count]['water_prox'] = near_or_is_water[count]\n",
    "        count = count+1\n",
    "        \n",
    "fig, ax = plt.subplots()\n",
    "plt.imshow(np.array(is_edge).reshape(types.shape))\n",
    "plt.colorbar()\n",
    "plt.show()\n",
    "fig, ax = plt.subplots()\n",
    "plt.imshow(np.array(near_or_is_water).reshape(types.shape))\n",
    "plt.colorbar()\n",
    "plt.show()\n",
    "\n",
    "classes_multi =np.zeros(types.shape)\n",
    "classes_multi=types\n",
    "count = 0\n",
    "t = np.arange(365*24)\n",
    "for i in range(classes_multi.shape[0]):\n",
    "    for j in range(classes_multi.shape[1]):\n",
    "        k1 = patch_net[count]['max_cc']\n",
    "        patch_net[count]['carrying_capacity_yr'] = k1*np.cos(2*np.pi/(24*365)*t)+k1\n",
    "        if i==10 and j==10:\n",
    "            patch_net[count]['Name']='Roost'\n",
    "        if i==5 and j==20:\n",
    "            patch_net[count]['Name']='Roost'\n",
    "        if i==17 and j==20:\n",
    "            patch_net[count]['Name']='Roost'\n",
    "        count=count+1\n",
    "\n",
    "        \n",
    "resources = np.asarray([patch_net[i]['init_resources'] for i in range(count)])\n",
    "\n",
    "data=np.array(resources.reshape(types.shape))\n",
    "plt.imshow(data,cmap='magma')\n",
    "plt.colorbar()\n",
    "plt.show()"
   ]
  },
  {
   "cell_type": "code",
   "execution_count": 390,
   "id": "684f089b",
   "metadata": {},
   "outputs": [
    {
     "data": {
      "image/png": "[encoded data removed]",
      "text/plain": [
       "<Figure size 432x288 with 1 Axes>"
      ]
     },
     "metadata": {
      "needs_background": "light"
     },
     "output_type": "display_data"
    },
    {
     "name": "stdout",
     "output_type": "stream",
     "text": [
      "1.0\n"
     ]
    },
    {
     "data": {
      "image/png": "[encoded data removed]",
      "text/plain": [
       "<Figure size 432x288 with 2 Axes>"
      ]
     },
     "metadata": {
      "needs_background": "light"
     },
     "output_type": "display_data"
    },
    {
     "data": {
      "image/png": "[encoded data removed]",
      "text/plain": [
       "<Figure size 432x288 with 2 Axes>"
      ]
     },
     "metadata": {
      "needs_background": "light"
     },
     "output_type": "display_data"
    },
    {
     "data": {
      "image/png": "[encoded data removed]",
      "text/plain": [
       "<Figure size 432x288 with 2 Axes>"
      ]
     },
     "metadata": {
      "needs_background": "light"
     },
     "output_type": "display_data"
    }
   ],
   "source": [
    "# residential forest \n",
    "patch_net = {}\n",
    "patch_names = []\n",
    "data_3d = np.ndarray(shape=(30,30, 3), dtype=int)\n",
    "types = np.zeros((30,30))\n",
    "p_ids = np.zeros((30,30))\n",
    "xs = np.zeros((30,1))\n",
    "ys = np.zeros((30,1))\n",
    "count = 0\n",
    "for i in range(30):\n",
    "    for j in range(30):\n",
    "        patch_net[count] = {}\n",
    "        patch_net[count]['patch_center']= [i+0.5,j+0.5]\n",
    "        if i<=21 and j <= 21:\n",
    "            p_type = 2\n",
    "        elif i>21 and j <= 15:\n",
    "            p_type = 1\n",
    "        elif i<=21 and j > 15:\n",
    "            p_type = 4\n",
    "        else:\n",
    "            p_type= 0\n",
    "        data_3d[i][j]= color_map[p_type]\n",
    "        types[i][j] = p_type\n",
    "        p_ids[i][j] = count\n",
    "        xs[i] = i+0.5\n",
    "        ys[j] = j+0.5\n",
    "        attr = resources_map[p_type]\n",
    "        K = np.random.choice(np.arange(attr[1],attr[2]))\n",
    "        patch_net[count]['max_cc']= K\n",
    "        patch_net[count]['p_type'] = p_type\n",
    "        patch_net[count]['init_resources']= np.random.choice(np.arange(0,K))\n",
    "        patch_net[count]['resource_birth'] = np.random.choice(np.arange(attr[3],attr[4],0.001))\n",
    "        patch_net[count]['Name'] = attr[0]\n",
    "        patch_names.append(patch_net[count]['Name'])\n",
    "        count = count + 1\n",
    "\n",
    "# display the plot \n",
    "fig, ax = plt.subplots()\n",
    "ax.imshow(data_3d)\n",
    "plt.show()\n",
    "\n",
    "\n",
    "neighbors_dict = {}\n",
    "is_edge = []\n",
    "near_or_is_water = []\n",
    "count = 0\n",
    "for i in range(30):\n",
    "    for j in range(30):\n",
    "        neighbors_dict[count] = get_neighbours(types.T,i+1,j+1)\n",
    "        is_edge.append(len(np.where(neighbors_dict[count]=='Forest')[0])>0 and len(np.where(neighbors_dict[count]=='Forest')[0])<len(neighbors_dict[count]))\n",
    "        near_or_is_water.append('Water Body' in neighbors_dict[count] or resources_map[types[i,j]][0]=='Water Body')\n",
    "        count = count+1\n",
    "\n",
    "count = 0\n",
    "for i in range(30):\n",
    "    for j in range(30):\n",
    "        patch_net[count]['forrest_edge'] = is_edge[count]\n",
    "        patch_net[count]['water_prox'] = near_or_is_water[count]\n",
    "        count = count+1\n",
    "        \n",
    "fig, ax = plt.subplots()\n",
    "plt.imshow(np.array(is_edge).reshape(types.shape))\n",
    "plt.colorbar()\n",
    "plt.show()\n",
    "fig, ax = plt.subplots()\n",
    "plt.imshow(np.array(near_or_is_water).reshape(types.shape))\n",
    "plt.colorbar()\n",
    "plt.show()\n",
    "\n",
    "classes_multi =np.zeros(types.shape)\n",
    "classes_multi=types\n",
    "count = 0\n",
    "t = np.arange(365*24)\n",
    "for i in range(classes_multi.shape[0]):\n",
    "    for j in range(classes_multi.shape[1]):\n",
    "        k1 = patch_net[count]['max_cc']\n",
    "        patch_net[count]['carrying_capacity_yr'] = k1*np.cos(2*np.pi/(24*365)*t)+k1\n",
    "        if i==10 and j==10:\n",
    "            patch_net[count]['Name']='Roost'\n",
    "        if i==5 and j==20:\n",
    "            patch_net[count]['Name']='Roost'\n",
    "        if i==17 and j==20:\n",
    "            patch_net[count]['Name']='Roost'\n",
    "        count=count+1\n",
    "\n",
    "        \n",
    "resources = np.asarray([patch_net[i]['init_resources'] for i in range(count)])\n",
    "\n",
    "data=np.array(resources.reshape(types.shape))\n",
    "plt.imshow(data,cmap='magma')\n",
    "plt.colorbar()\n",
    "plt.show()"
   ]
  },
  {
   "cell_type": "markdown",
   "id": "51bf2fcd",
   "metadata": {},
   "source": [
    "# Precalculate preferred paths\n",
    "- direct paths\n",
    "- avoid residential\n",
    "- close to water\n",
    "- close to forest"
   ]
  },
  {
   "cell_type": "code",
   "execution_count": 251,
   "id": "6170b10d",
   "metadata": {},
   "outputs": [],
   "source": [
    "def direct_paths_dist(patch_net):\n",
    "    direct_paths = []\n",
    "    centers_xs = np.array([patch_net[p]['patch_center'][0] for p in patch_net.keys()])\n",
    "    centers_ys = np.array([patch_net[p]['patch_center'][1] for p in patch_net.keys()])\n",
    "    for p in patch_net.keys():\n",
    "        p_coord = patch_net[p]['patch_center']\n",
    "        x = p_coord[0]\n",
    "        y = p_coord[1]\n",
    "        direct_paths.append(np.sqrt((centers_xs - x) ** 2 + (centers_ys - y) ** 2) / 30.0)\n",
    "    return np.array(direct_paths)"
   ]
  },
  {
   "cell_type": "code",
   "execution_count": 252,
   "id": "8d83f13d",
   "metadata": {},
   "outputs": [],
   "source": [
    "test = direct_paths_dist(patch_net)"
   ]
  },
  {
   "cell_type": "code",
   "execution_count": 253,
   "id": "4021fa49",
   "metadata": {},
   "outputs": [
    {
     "data": {
      "text/plain": [
       "<matplotlib.colorbar.Colorbar at 0x7f79c7130f70>"
      ]
     },
     "execution_count": 253,
     "metadata": {},
     "output_type": "execute_result"
    },
    {
     "data": {
      "image/png": "[encoded data removed]",
      "text/plain": [
       "<Figure size 432x288 with 2 Axes>"
      ]
     },
     "metadata": {
      "needs_background": "light"
     },
     "output_type": "display_data"
    }
   ],
   "source": [
    "plt.imshow(test[0].reshape((30,30))) #time in hrs\n",
    "plt.colorbar()"
   ]
  },
  {
   "cell_type": "code",
   "execution_count": 381,
   "id": "9ff48e3b",
   "metadata": {},
   "outputs": [],
   "source": [
    "def path_on_grid_direct(start, end,ax):\n",
    "    #return line for plotting\n",
    "    start_coord = patch_net[start]['patch_center']\n",
    "    x_start = start_coord[0]\n",
    "    y_start = start_coord[1]\n",
    "    \n",
    "    end_coord = patch_net[end]['patch_center']\n",
    "    x_end = end_coord[0]\n",
    "    y_end = end_coord[1]\n",
    "    \n",
    "    if x_end==x_start:\n",
    "        ax.vlines(x = x_start, ymin = min(y_start,y_end), ymax = max(y_start,y_end))\n",
    "    elif y_end==y_start:\n",
    "        ax.hlines(y = y_start, xmin = min(x_start,x_end), xmax = max(x_start,x_end))\n",
    "    else:\n",
    "        m = ((y_end-y_start)/(x_end-x_start))\n",
    "        line = m*np.arange(x_start, x_end+1,1) + (y_start-(m*x_start))\n",
    "        ax.plot(np.arange(x_start, x_end+1,1),line)\n",
    "\n",
    "def path_on_grid_direct_next_point(start,end):\n",
    "    #return line for plotting\n",
    "    start_coord = patch_net[start]['patch_center']\n",
    "    x_start = start_coord[0]\n",
    "    y_start = start_coord[1]\n",
    "    \n",
    "    end_coord = patch_net[end]['patch_center']\n",
    "    x_end = end_coord[0]\n",
    "    y_end = end_coord[1]\n",
    "    \n",
    "    if x_end==x_start:\n",
    "        cx,cy = np.where(p_ids==start)\n",
    "        return int(p_ids[cx,cy+1]) \n",
    "    elif y_end==y_start:\n",
    "        cx,cy = np.where(p_ids==start)\n",
    "        return int(p_ids[cx+1,cy])\n",
    "    else:\n",
    "        m = ((y_end-y_start)/(x_end-x_start))\n",
    "        x_range = np.arange(x_start, x_end+0.001,0.001)\n",
    "        line = m*x_range + (y_start-(m*x_start))\n",
    "        y_val = line[np.where(line - y_start>0.5)][0]\n",
    "        x_val = x_range[np.where(line - y_start>0.5)][0]\n",
    "        return int(p_ids[np.argmin(abs(xs-x_val)),np.argmin(abs(ys-y_val))])"
   ]
  },
  {
   "cell_type": "code",
   "execution_count": 388,
   "id": "b6cd208e",
   "metadata": {},
   "outputs": [],
   "source": [
    "def plot_pairs(pairs):\n",
    "    fig, ax = plt.subplots(figsize=(10,10))\n",
    "    ax.set_ylim(ymin=0, ymax = 30)\n",
    "    ax.set_xlim(xmin=0, xmax = 30)\n",
    "    #pairs are p_ids\n",
    "    for p in pairs:\n",
    "        path_on_grid_direct(p[0],p[1], ax)\n",
    "#plot_pairs(np.array([[0,200],[200,50],[50,600]]))"
   ]
  },
  {
   "cell_type": "code",
   "execution_count": null,
   "id": "dfb52560",
   "metadata": {},
   "outputs": [],
   "source": [
    "def path_on_grid_preference_next_point(start,end, pref_type):\n",
    "    next_direct = path_on_grid_direct_next_point(start,end)\n",
    "    #check p_type of next direct\n",
    "    if patch_net[next_direct]['p_type'] == pref_type:\n",
    "        return next_direct\n",
    "    else:\n",
    "        #look at neighbors"
   ]
  },
  {
   "cell_type": "code",
   "execution_count": 386,
   "id": "ff126bfa",
   "metadata": {},
   "outputs": [],
   "source": [
    "def paths_avoid_or_prefer_types(patch_net,avoid,prefer,start,end):\n",
    "    #avoid will be a list of patch types to avoid when picking a path in order from worst to least bad\n",
    "    #prefer is similar but opposite\n",
    "    cur = start\n",
    "    path = []\n",
    "    path.append(start)\n",
    "    if len(avoid)==0 and len(prefer)==0:\n",
    "        #do direct route, calculate line, then choose next patch along line\n",
    "        while cur != end:\n",
    "            next_point = path_on_grid_direct_next_point(cur,end)\n",
    "            path.append(next_point)\n",
    "            cur = next_point\n",
    "    elif len(avoid)==0:\n",
    "        # look at line of direct path, if a neighboring patch in a similar direction is the prefered type, choose that one\n",
    "        # if not stick to direct\n",
    "    return np.array(path)"
   ]
  },
  {
   "cell_type": "code",
   "execution_count": 387,
   "id": "09bff358",
   "metadata": {},
   "outputs": [
    {
     "data": {
      "text/plain": [
       "array([  0,   1,   2,   3,   4,  35,  66,  97, 128, 159, 190, 221, 252,\n",
       "       283, 314, 345, 376, 407, 438, 469, 500])"
      ]
     },
     "execution_count": 387,
     "metadata": {},
     "output_type": "execute_result"
    }
   ],
   "source": [
    "paths_avoid_or_prefer_types(patch_net,[],[],0,500)"
   ]
  },
  {
   "cell_type": "code",
   "execution_count": 389,
   "id": "96909026",
   "metadata": {},
   "outputs": [
    {
     "data": {
      "text/plain": [
       "{'patch_center': [0.5, 0.5],\n",
       " 'max_cc': 571,\n",
       " 'init_resources': 353,\n",
       " 'resource_birth': 0.42800000000000027,\n",
       " 'Name': 'Residential',\n",
       " 'forrest_edge': False,\n",
       " 'water_prox': False,\n",
       " 'carrying_capacity_yr': array([1142.        , 1141.99985312, 1141.99941249, ..., 1141.9986781 ,\n",
       "        1141.99941249, 1141.99985312])}"
      ]
     },
     "execution_count": 389,
     "metadata": {},
     "output_type": "execute_result"
    }
   ],
   "source": [
    "patch_net[0]"
   ]
  },
  {
   "cell_type": "code",
   "execution_count": null,
   "id": "c97c3cf6",
   "metadata": {},
   "outputs": [],
   "source": []
  }
 ],
 "metadata": {
  "kernelspec": {
   "display_name": "Python 3 (ipykernel)",
   "language": "python",
   "name": "python3"
  },
  "language_info": {
   "codemirror_mode": {
    "name": "ipython",
    "version": 3
   },
   "file_extension": ".py",
   "mimetype": "text/x-python",
   "name": "python",
   "nbconvert_exporter": "python",
   "pygments_lexer": "ipython3",
   "version": "3.9.12"
  }
 },
 "nbformat": 4,
 "nbformat_minor": 5
}
